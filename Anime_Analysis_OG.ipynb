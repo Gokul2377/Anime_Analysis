{
  "nbformat": 4,
  "nbformat_minor": 0,
  "metadata": {
    "kernelspec": {
      "display_name": "Python 3",
      "language": "python",
      "name": "python3"
    },
    "language_info": {
      "codemirror_mode": {
        "name": "ipython",
        "version": 3
      },
      "file_extension": ".py",
      "mimetype": "text/x-python",
      "name": "python",
      "nbconvert_exporter": "python",
      "pygments_lexer": "ipython3",
      "version": "3.8.2"
    },
    "colab": {
      "name": "Anime_Analysis_OG.ipynb",
      "provenance": [],
      "collapsed_sections": []
    }
  },
  "cells": [
    {
      "cell_type": "markdown",
      "metadata": {
        "id": "LFjmdoAbo3Gt",
        "colab_type": "text"
      },
      "source": [
        "## Analyzing Anime data with Python\n",
        "\n",
        "This project is about analysing and filtering out user required animes and movies"
      ]
    },
    {
      "cell_type": "markdown",
      "metadata": {
        "id": "EgBt3qcJo3Gu",
        "colab_type": "text"
      },
      "source": [
        "If you love anime, you'll enjoy this analysis I did with Python. This data comes from the Kaggle, and you can download a version of it from the link below here. \n",
        "<br>\n",
        "Link: https://www.kaggle.com/CooperUnion/anime-recommendations-database"
      ]
    },
    {
      "cell_type": "markdown",
      "metadata": {
        "id": "U252sXxbo3Gu",
        "colab_type": "text"
      },
      "source": [
        "### Loading up libaries"
      ]
    },
    {
      "cell_type": "code",
      "metadata": {
        "id": "oCql5j1ko3Gv",
        "colab_type": "code",
        "colab": {}
      },
      "source": [
        "import numpy as np  \n",
        "import pandas as pd\n",
        "import matplotlib as plt\n",
        "import matplotlib.pyplot as plt2\n",
        "from matplotlib.pyplot import figure\n",
        "from IPython import display"
      ],
      "execution_count": null,
      "outputs": []
    },
    {
      "cell_type": "code",
      "metadata": {
        "id": "KJITdKwIo3Gy",
        "colab_type": "code",
        "colab": {}
      },
      "source": [
        "import warnings\n",
        "warnings.filterwarnings('ignore')"
      ],
      "execution_count": null,
      "outputs": []
    },
    {
      "cell_type": "markdown",
      "metadata": {
        "id": "JLSTwtdIo3G0",
        "colab_type": "text"
      },
      "source": [
        "### Reading the dataset"
      ]
    },
    {
      "cell_type": "code",
      "metadata": {
        "id": "Nvz7HGa6qak1",
        "colab_type": "code",
        "colab": {
          "base_uri": "https://localhost:8080/",
          "height": 121
        },
        "outputId": "5c8e93f9-3e1f-4ed0-be14-2eca0a812614"
      },
      "source": [
        "from google.colab import drive\n",
        "drive.mount('/content/Gdrive')"
      ],
      "execution_count": null,
      "outputs": [
        {
          "output_type": "stream",
          "text": [
            "Go to this URL in a browser: https://accounts.google.com/o/oauth2/auth?client_id=947318989803-6bn6qk8qdgf4n4g3pfee6491hc0brc4i.apps.googleusercontent.com&redirect_uri=urn%3aietf%3awg%3aoauth%3a2.0%3aoob&response_type=code&scope=email%20https%3a%2f%2fwww.googleapis.com%2fauth%2fdocs.test%20https%3a%2f%2fwww.googleapis.com%2fauth%2fdrive%20https%3a%2f%2fwww.googleapis.com%2fauth%2fdrive.photos.readonly%20https%3a%2f%2fwww.googleapis.com%2fauth%2fpeopleapi.readonly\n",
            "\n",
            "Enter your authorization code:\n",
            "··········\n",
            "Mounted at /content/Gdrive\n"
          ],
          "name": "stdout"
        }
      ]
    },
    {
      "cell_type": "code",
      "metadata": {
        "id": "larT3LXao3G1",
        "colab_type": "code",
        "colab": {}
      },
      "source": [
        "df=pd.read_csv('/content/Gdrive/My Drive/DATASETS/anime.csv')"
      ],
      "execution_count": null,
      "outputs": []
    },
    {
      "cell_type": "code",
      "metadata": {
        "scrolled": true,
        "id": "ut9-TT1Ho3G3",
        "colab_type": "code",
        "colab": {
          "base_uri": "https://localhost:8080/",
          "height": 343
        },
        "outputId": "e0f53d8b-bd1e-4616-f95a-86b232dbd322"
      },
      "source": [
        "df.head(10)"
      ],
      "execution_count": null,
      "outputs": [
        {
          "output_type": "execute_result",
          "data": {
            "text/html": [
              "<div>\n",
              "<style scoped>\n",
              "    .dataframe tbody tr th:only-of-type {\n",
              "        vertical-align: middle;\n",
              "    }\n",
              "\n",
              "    .dataframe tbody tr th {\n",
              "        vertical-align: top;\n",
              "    }\n",
              "\n",
              "    .dataframe thead th {\n",
              "        text-align: right;\n",
              "    }\n",
              "</style>\n",
              "<table border=\"1\" class=\"dataframe\">\n",
              "  <thead>\n",
              "    <tr style=\"text-align: right;\">\n",
              "      <th></th>\n",
              "      <th>anime_id</th>\n",
              "      <th>name</th>\n",
              "      <th>genre</th>\n",
              "      <th>type</th>\n",
              "      <th>episodes</th>\n",
              "      <th>rating</th>\n",
              "      <th>members</th>\n",
              "    </tr>\n",
              "  </thead>\n",
              "  <tbody>\n",
              "    <tr>\n",
              "      <th>0</th>\n",
              "      <td>32281</td>\n",
              "      <td>Kimi no Na wa.</td>\n",
              "      <td>Drama, Romance, School, Supernatural</td>\n",
              "      <td>Movie</td>\n",
              "      <td>1</td>\n",
              "      <td>9.37</td>\n",
              "      <td>200630</td>\n",
              "    </tr>\n",
              "    <tr>\n",
              "      <th>1</th>\n",
              "      <td>5114</td>\n",
              "      <td>Fullmetal Alchemist: Brotherhood</td>\n",
              "      <td>Action, Adventure, Drama, Fantasy, Magic, Mili...</td>\n",
              "      <td>TV</td>\n",
              "      <td>64</td>\n",
              "      <td>9.26</td>\n",
              "      <td>793665</td>\n",
              "    </tr>\n",
              "    <tr>\n",
              "      <th>2</th>\n",
              "      <td>28977</td>\n",
              "      <td>Gintama°</td>\n",
              "      <td>Action, Comedy, Historical, Parody, Samurai, S...</td>\n",
              "      <td>TV</td>\n",
              "      <td>51</td>\n",
              "      <td>9.25</td>\n",
              "      <td>114262</td>\n",
              "    </tr>\n",
              "    <tr>\n",
              "      <th>3</th>\n",
              "      <td>9253</td>\n",
              "      <td>Steins;Gate</td>\n",
              "      <td>Sci-Fi, Thriller</td>\n",
              "      <td>TV</td>\n",
              "      <td>24</td>\n",
              "      <td>9.17</td>\n",
              "      <td>673572</td>\n",
              "    </tr>\n",
              "    <tr>\n",
              "      <th>4</th>\n",
              "      <td>9969</td>\n",
              "      <td>Gintama&amp;#039;</td>\n",
              "      <td>Action, Comedy, Historical, Parody, Samurai, S...</td>\n",
              "      <td>TV</td>\n",
              "      <td>51</td>\n",
              "      <td>9.16</td>\n",
              "      <td>151266</td>\n",
              "    </tr>\n",
              "    <tr>\n",
              "      <th>5</th>\n",
              "      <td>32935</td>\n",
              "      <td>Haikyuu!!: Karasuno Koukou VS Shiratorizawa Ga...</td>\n",
              "      <td>Comedy, Drama, School, Shounen, Sports</td>\n",
              "      <td>TV</td>\n",
              "      <td>10</td>\n",
              "      <td>9.15</td>\n",
              "      <td>93351</td>\n",
              "    </tr>\n",
              "    <tr>\n",
              "      <th>6</th>\n",
              "      <td>11061</td>\n",
              "      <td>Hunter x Hunter (2011)</td>\n",
              "      <td>Action, Adventure, Shounen, Super Power</td>\n",
              "      <td>TV</td>\n",
              "      <td>148</td>\n",
              "      <td>9.13</td>\n",
              "      <td>425855</td>\n",
              "    </tr>\n",
              "    <tr>\n",
              "      <th>7</th>\n",
              "      <td>820</td>\n",
              "      <td>Ginga Eiyuu Densetsu</td>\n",
              "      <td>Drama, Military, Sci-Fi, Space</td>\n",
              "      <td>OVA</td>\n",
              "      <td>110</td>\n",
              "      <td>9.11</td>\n",
              "      <td>80679</td>\n",
              "    </tr>\n",
              "    <tr>\n",
              "      <th>8</th>\n",
              "      <td>15335</td>\n",
              "      <td>Gintama Movie: Kanketsu-hen - Yorozuya yo Eien...</td>\n",
              "      <td>Action, Comedy, Historical, Parody, Samurai, S...</td>\n",
              "      <td>Movie</td>\n",
              "      <td>1</td>\n",
              "      <td>9.10</td>\n",
              "      <td>72534</td>\n",
              "    </tr>\n",
              "    <tr>\n",
              "      <th>9</th>\n",
              "      <td>15417</td>\n",
              "      <td>Gintama&amp;#039;: Enchousen</td>\n",
              "      <td>Action, Comedy, Historical, Parody, Samurai, S...</td>\n",
              "      <td>TV</td>\n",
              "      <td>13</td>\n",
              "      <td>9.11</td>\n",
              "      <td>81109</td>\n",
              "    </tr>\n",
              "  </tbody>\n",
              "</table>\n",
              "</div>"
            ],
            "text/plain": [
              "   anime_id                                               name  ... rating members\n",
              "0     32281                                     Kimi no Na wa.  ...   9.37  200630\n",
              "1      5114                   Fullmetal Alchemist: Brotherhood  ...   9.26  793665\n",
              "2     28977                                           Gintama°  ...   9.25  114262\n",
              "3      9253                                        Steins;Gate  ...   9.17  673572\n",
              "4      9969                                      Gintama&#039;  ...   9.16  151266\n",
              "5     32935  Haikyuu!!: Karasuno Koukou VS Shiratorizawa Ga...  ...   9.15   93351\n",
              "6     11061                             Hunter x Hunter (2011)  ...   9.13  425855\n",
              "7       820                               Ginga Eiyuu Densetsu  ...   9.11   80679\n",
              "8     15335  Gintama Movie: Kanketsu-hen - Yorozuya yo Eien...  ...   9.10   72534\n",
              "9     15417                           Gintama&#039;: Enchousen  ...   9.11   81109\n",
              "\n",
              "[10 rows x 7 columns]"
            ]
          },
          "metadata": {
            "tags": []
          },
          "execution_count": 10
        }
      ]
    },
    {
      "cell_type": "markdown",
      "metadata": {
        "id": "LnX4xtaPo3G6",
        "colab_type": "text"
      },
      "source": [
        "It's always a good practice to use this command, everytime you import a new dataset. It'll begin a better understanding of the structure of the dataset."
      ]
    },
    {
      "cell_type": "markdown",
      "metadata": {
        "id": "T7Y67iKBo3G7",
        "colab_type": "text"
      },
      "source": [
        "Note: An important thing to keep in mind is that the genre consists of \"strings\", not a list of strings. It'll be useful in the future"
      ]
    },
    {
      "cell_type": "markdown",
      "metadata": {
        "id": "7WGh3UDHo3G7",
        "colab_type": "text"
      },
      "source": [
        "### Understanding our Dataset"
      ]
    },
    {
      "cell_type": "code",
      "metadata": {
        "id": "YuT_J3sBo3G8",
        "colab_type": "code",
        "colab": {},
        "outputId": "f2f16d54-492e-4148-a823-70f144a89286"
      },
      "source": [
        "df.info()"
      ],
      "execution_count": null,
      "outputs": [
        {
          "output_type": "stream",
          "text": [
            "<class 'pandas.core.frame.DataFrame'>\n",
            "RangeIndex: 12294 entries, 0 to 12293\n",
            "Data columns (total 7 columns):\n",
            " #   Column    Non-Null Count  Dtype  \n",
            "---  ------    --------------  -----  \n",
            " 0   anime_id  12294 non-null  int64  \n",
            " 1   name      12294 non-null  object \n",
            " 2   genre     12232 non-null  object \n",
            " 3   type      12269 non-null  object \n",
            " 4   episodes  12294 non-null  object \n",
            " 5   rating    12064 non-null  float64\n",
            " 6   members   12294 non-null  int64  \n",
            "dtypes: float64(1), int64(2), object(4)\n",
            "memory usage: 672.5+ KB\n"
          ],
          "name": "stdout"
        }
      ]
    },
    {
      "cell_type": "markdown",
      "metadata": {
        "id": "4AygUABqo3G-",
        "colab_type": "text"
      },
      "source": [
        "As you can see it's a relatively large dataset, with around 13k rows <br>\n",
        "From the above information, We can understand the data type and count of each attribute"
      ]
    },
    {
      "cell_type": "markdown",
      "metadata": {
        "id": "XP_G-Urzo3G_",
        "colab_type": "text"
      },
      "source": [
        "### Types in Anime"
      ]
    },
    {
      "cell_type": "code",
      "metadata": {
        "id": "M_sC_cCzo3G_",
        "colab_type": "code",
        "colab": {}
      },
      "source": [
        "import matplotlib.pyplot as plt"
      ],
      "execution_count": null,
      "outputs": []
    },
    {
      "cell_type": "code",
      "metadata": {
        "id": "cQGKPBRoo3HB",
        "colab_type": "code",
        "colab": {},
        "outputId": "ebc67092-8074-46a0-b90a-60a8f612d0fd"
      },
      "source": [
        "df.type.value_counts().plot(kind=\"barh\")"
      ],
      "execution_count": null,
      "outputs": [
        {
          "output_type": "execute_result",
          "data": {
            "text/plain": [
              "<matplotlib.axes._subplots.AxesSubplot at 0x1dff73b23d0>"
            ]
          },
          "metadata": {
            "tags": []
          },
          "execution_count": 6
        },
        {
          "output_type": "display_data",
          "data": {
            "image/png": "[encoded data removed]",
            "text/plain": [
              "<Figure size 432x288 with 1 Axes>"
            ]
          },
          "metadata": {
            "tags": [],
            "needs_background": "light"
          }
        }
      ]
    },
    {
      "cell_type": "markdown",
      "metadata": {
        "id": "3b1b-yOio3HE",
        "colab_type": "text"
      },
      "source": [
        "As we can see from the above graph, We have a wide variety of content available in our dataset, ranging from music to tv series.\n"
      ]
    },
    {
      "cell_type": "markdown",
      "metadata": {
        "id": "kQ1CvUKEo3HE",
        "colab_type": "text"
      },
      "source": [
        "### Histogram of Ratings"
      ]
    },
    {
      "cell_type": "code",
      "metadata": {
        "id": "6WOYS6slo3HE",
        "colab_type": "code",
        "colab": {},
        "outputId": "c9e97133-c00f-49da-d1a7-091ecb682d80"
      },
      "source": [
        "Ratings=df.rating.plot(kind=\"hist\",linewidth=1.1,edgecolor='black',figsize=(8,5),title=\"HISTOGRAM OF RATINGS\",legend=bool)"
      ],
      "execution_count": null,
      "outputs": [
        {
          "output_type": "display_data",
          "data": {
            "image/png": "[encoded data removed]",
            "text/plain": [
              "<Figure size 576x360 with 1 Axes>"
            ]
          },
          "metadata": {
            "tags": [],
            "needs_background": "light"
          }
        }
      ]
    },
    {
      "cell_type": "markdown",
      "metadata": {
        "id": "WLN_ybW9o3HG",
        "colab_type": "text"
      },
      "source": [
        "Here. The X-Axis represents the Ratings, <br>\n",
        "while the Y-Axis represents the Number of Animes that fall into that specific range of ratings.\n",
        "<br>\n",
        "We can see that most animes fall into the range of 6 and 8, and only a select few animes are in the extreme ends of the rating scale, as you would expect."
      ]
    },
    {
      "cell_type": "markdown",
      "metadata": {
        "id": "Zgbdvk_Bo3HH",
        "colab_type": "text"
      },
      "source": [
        "## List of all unique genres"
      ]
    },
    {
      "cell_type": "code",
      "metadata": {
        "id": "R3Atw1Sso3HH",
        "colab_type": "code",
        "colab": {}
      },
      "source": [
        "genres=[]\n",
        "for x in df.genre.dropna():  #Removing any missing value found in the dataframe\n",
        "    if x not in genres:\n",
        "        genres.append(x)     #Appending all the genres into a new list"
      ],
      "execution_count": null,
      "outputs": []
    },
    {
      "cell_type": "code",
      "metadata": {
        "id": "YmcFR4dwo3HJ",
        "colab_type": "code",
        "colab": {}
      },
      "source": [
        "genres=str(genres)\n",
        "s=\"\"\n",
        "for x in genres:\n",
        "    if x!=\"'\" and x!=\"[\" and x!=\"]\":\n",
        "        s=s+x\n",
        "\n",
        "Genre=s.split(\", \") "
      ],
      "execution_count": null,
      "outputs": []
    },
    {
      "cell_type": "code",
      "metadata": {
        "id": "Tv2kau4wo3HL",
        "colab_type": "code",
        "colab": {
          "base_uri": "https://localhost:8080/",
          "height": 54
        },
        "outputId": "6b749ae7-8c9f-4bd8-e0a8-015bea552ac5"
      },
      "source": [
        "L=list(dict.fromkeys(Genre))\n",
        "L.sort()\n",
        "print(L)"
      ],
      "execution_count": null,
      "outputs": [
        {
          "output_type": "stream",
          "text": [
            "['Action', 'Adventure', 'Cars', 'Comedy', 'Dementia', 'Demons', 'Drama', 'Ecchi', 'Fantasy', 'Game', 'Harem', 'Hentai', 'Historical', 'Horror', 'Josei', 'Kids', 'Magic', 'Martial Arts', 'Mecha', 'Military', 'Music', 'Mystery', 'Parody', 'Police', 'Psychological', 'Romance', 'Samurai', 'School', 'Sci-Fi', 'Seinen', 'Shoujo', 'Shoujo Ai', 'Shounen', 'Shounen Ai', 'Slice of Life', 'Space', 'Sports', 'Super Power', 'Supernatural', 'Thriller', 'Vampire', 'Yaoi', 'Yuri']\n"
          ],
          "name": "stdout"
        }
      ]
    },
    {
      "cell_type": "markdown",
      "metadata": {
        "id": "F2_o8gVOo3HO",
        "colab_type": "text"
      },
      "source": [
        "## Categories of Genres"
      ]
    },
    {
      "cell_type": "code",
      "metadata": {
        "id": "mIHF3U9Bo3HO",
        "colab_type": "code",
        "colab": {}
      },
      "source": [
        "df[\"genre\"]=df[\"genre\"].str.split(\", \")   ## Splitting the genres into a list of strings                               \n",
        "df.dropna(inplace = True)                 ## Dropping all missing values"
      ],
      "execution_count": null,
      "outputs": []
    },
    {
      "cell_type": "code",
      "metadata": {
        "id": "3vy5dhMOo3HQ",
        "colab_type": "code",
        "colab": {}
      },
      "source": [
        "g=[]\n",
        "for x in df.genre:                   ## Appending all the genres into a new list\n",
        "    g.extend(x)"
      ],
      "execution_count": null,
      "outputs": []
    },
    {
      "cell_type": "code",
      "metadata": {
        "id": "Yc63IP2Po3HS",
        "colab_type": "code",
        "colab": {}
      },
      "source": [
        "c=0\n",
        "c2=[]\n",
        "for x in L:                       ## L -> List of unique genres\n",
        "    for y in g:                   ## G -> List of all genres in the dataset\n",
        "        if y==x:\n",
        "            c=c+1                \n",
        "    c2.append(c)\n",
        "    c=0"
      ],
      "execution_count": null,
      "outputs": []
    },
    {
      "cell_type": "code",
      "metadata": {
        "scrolled": true,
        "id": "BT5Y2NE_o3HU",
        "colab_type": "code",
        "colab": {
          "base_uri": "https://localhost:8080/",
          "height": 300
        },
        "outputId": "76e425f9-c4ca-4aa4-f567-1cf0402b6c4d"
      },
      "source": [
        "d = {'Genres': L, 'Anime_Count': c2}\n",
        "df2 = pd.DataFrame(data=d)\n",
        "\n",
        "# Display the DataFrame\n",
        "display.display(df2)\n",
        "\n",
        "# Adjust the output height to 300px.\n",
        "display.Javascript(\"google.colab.output.setIframeHeight('300px');\")"
      ],
      "execution_count": null,
      "outputs": [
        {
          "output_type": "display_data",
          "data": {
            "text/html": [
              "<div>\n",
              "<style scoped>\n",
              "    .dataframe tbody tr th:only-of-type {\n",
              "        vertical-align: middle;\n",
              "    }\n",
              "\n",
              "    .dataframe tbody tr th {\n",
              "        vertical-align: top;\n",
              "    }\n",
              "\n",
              "    .dataframe thead th {\n",
              "        text-align: right;\n",
              "    }\n",
              "</style>\n",
              "<table border=\"1\" class=\"dataframe\">\n",
              "  <thead>\n",
              "    <tr style=\"text-align: right;\">\n",
              "      <th></th>\n",
              "      <th>Genres</th>\n",
              "      <th>Anime_Count</th>\n",
              "    </tr>\n",
              "  </thead>\n",
              "  <tbody>\n",
              "    <tr>\n",
              "      <th>0</th>\n",
              "      <td>Action</td>\n",
              "      <td>2768</td>\n",
              "    </tr>\n",
              "    <tr>\n",
              "      <th>1</th>\n",
              "      <td>Adventure</td>\n",
              "      <td>2316</td>\n",
              "    </tr>\n",
              "    <tr>\n",
              "      <th>2</th>\n",
              "      <td>Cars</td>\n",
              "      <td>72</td>\n",
              "    </tr>\n",
              "    <tr>\n",
              "      <th>3</th>\n",
              "      <td>Comedy</td>\n",
              "      <td>4575</td>\n",
              "    </tr>\n",
              "    <tr>\n",
              "      <th>4</th>\n",
              "      <td>Dementia</td>\n",
              "      <td>238</td>\n",
              "    </tr>\n",
              "    <tr>\n",
              "      <th>5</th>\n",
              "      <td>Demons</td>\n",
              "      <td>287</td>\n",
              "    </tr>\n",
              "    <tr>\n",
              "      <th>6</th>\n",
              "      <td>Drama</td>\n",
              "      <td>1977</td>\n",
              "    </tr>\n",
              "    <tr>\n",
              "      <th>7</th>\n",
              "      <td>Ecchi</td>\n",
              "      <td>628</td>\n",
              "    </tr>\n",
              "    <tr>\n",
              "      <th>8</th>\n",
              "      <td>Fantasy</td>\n",
              "      <td>2242</td>\n",
              "    </tr>\n",
              "    <tr>\n",
              "      <th>9</th>\n",
              "      <td>Game</td>\n",
              "      <td>177</td>\n",
              "    </tr>\n",
              "    <tr>\n",
              "      <th>10</th>\n",
              "      <td>Harem</td>\n",
              "      <td>313</td>\n",
              "    </tr>\n",
              "    <tr>\n",
              "      <th>11</th>\n",
              "      <td>Hentai</td>\n",
              "      <td>1133</td>\n",
              "    </tr>\n",
              "    <tr>\n",
              "      <th>12</th>\n",
              "      <td>Historical</td>\n",
              "      <td>798</td>\n",
              "    </tr>\n",
              "    <tr>\n",
              "      <th>13</th>\n",
              "      <td>Horror</td>\n",
              "      <td>362</td>\n",
              "    </tr>\n",
              "    <tr>\n",
              "      <th>14</th>\n",
              "      <td>Josei</td>\n",
              "      <td>52</td>\n",
              "    </tr>\n",
              "    <tr>\n",
              "      <th>15</th>\n",
              "      <td>Kids</td>\n",
              "      <td>1598</td>\n",
              "    </tr>\n",
              "    <tr>\n",
              "      <th>16</th>\n",
              "      <td>Magic</td>\n",
              "      <td>747</td>\n",
              "    </tr>\n",
              "    <tr>\n",
              "      <th>17</th>\n",
              "      <td>Martial Arts</td>\n",
              "      <td>264</td>\n",
              "    </tr>\n",
              "    <tr>\n",
              "      <th>18</th>\n",
              "      <td>Mecha</td>\n",
              "      <td>929</td>\n",
              "    </tr>\n",
              "    <tr>\n",
              "      <th>19</th>\n",
              "      <td>Military</td>\n",
              "      <td>416</td>\n",
              "    </tr>\n",
              "    <tr>\n",
              "      <th>20</th>\n",
              "      <td>Music</td>\n",
              "      <td>842</td>\n",
              "    </tr>\n",
              "    <tr>\n",
              "      <th>21</th>\n",
              "      <td>Mystery</td>\n",
              "      <td>485</td>\n",
              "    </tr>\n",
              "    <tr>\n",
              "      <th>22</th>\n",
              "      <td>Parody</td>\n",
              "      <td>403</td>\n",
              "    </tr>\n",
              "    <tr>\n",
              "      <th>23</th>\n",
              "      <td>Police</td>\n",
              "      <td>195</td>\n",
              "    </tr>\n",
              "    <tr>\n",
              "      <th>24</th>\n",
              "      <td>Psychological</td>\n",
              "      <td>226</td>\n",
              "    </tr>\n",
              "    <tr>\n",
              "      <th>25</th>\n",
              "      <td>Romance</td>\n",
              "      <td>1437</td>\n",
              "    </tr>\n",
              "    <tr>\n",
              "      <th>26</th>\n",
              "      <td>Samurai</td>\n",
              "      <td>146</td>\n",
              "    </tr>\n",
              "    <tr>\n",
              "      <th>27</th>\n",
              "      <td>School</td>\n",
              "      <td>1176</td>\n",
              "    </tr>\n",
              "    <tr>\n",
              "      <th>28</th>\n",
              "      <td>Sci-Fi</td>\n",
              "      <td>2036</td>\n",
              "    </tr>\n",
              "    <tr>\n",
              "      <th>29</th>\n",
              "      <td>Seinen</td>\n",
              "      <td>532</td>\n",
              "    </tr>\n",
              "    <tr>\n",
              "      <th>30</th>\n",
              "      <td>Shoujo</td>\n",
              "      <td>594</td>\n",
              "    </tr>\n",
              "    <tr>\n",
              "      <th>31</th>\n",
              "      <td>Shoujo Ai</td>\n",
              "      <td>54</td>\n",
              "    </tr>\n",
              "    <tr>\n",
              "      <th>32</th>\n",
              "      <td>Shounen</td>\n",
              "      <td>1684</td>\n",
              "    </tr>\n",
              "    <tr>\n",
              "      <th>33</th>\n",
              "      <td>Shounen Ai</td>\n",
              "      <td>62</td>\n",
              "    </tr>\n",
              "    <tr>\n",
              "      <th>34</th>\n",
              "      <td>Slice of Life</td>\n",
              "      <td>1204</td>\n",
              "    </tr>\n",
              "    <tr>\n",
              "      <th>35</th>\n",
              "      <td>Space</td>\n",
              "      <td>377</td>\n",
              "    </tr>\n",
              "    <tr>\n",
              "      <th>36</th>\n",
              "      <td>Sports</td>\n",
              "      <td>533</td>\n",
              "    </tr>\n",
              "    <tr>\n",
              "      <th>37</th>\n",
              "      <td>Super Power</td>\n",
              "      <td>451</td>\n",
              "    </tr>\n",
              "    <tr>\n",
              "      <th>38</th>\n",
              "      <td>Supernatural</td>\n",
              "      <td>1001</td>\n",
              "    </tr>\n",
              "    <tr>\n",
              "      <th>39</th>\n",
              "      <td>Thriller</td>\n",
              "      <td>86</td>\n",
              "    </tr>\n",
              "    <tr>\n",
              "      <th>40</th>\n",
              "      <td>Vampire</td>\n",
              "      <td>100</td>\n",
              "    </tr>\n",
              "    <tr>\n",
              "      <th>41</th>\n",
              "      <td>Yaoi</td>\n",
              "      <td>38</td>\n",
              "    </tr>\n",
              "    <tr>\n",
              "      <th>42</th>\n",
              "      <td>Yuri</td>\n",
              "      <td>41</td>\n",
              "    </tr>\n",
              "  </tbody>\n",
              "</table>\n",
              "</div>"
            ],
            "text/plain": [
              "           Genres  Anime_Count\n",
              "0          Action         2768\n",
              "1       Adventure         2316\n",
              "2            Cars           72\n",
              "3          Comedy         4575\n",
              "4        Dementia          238\n",
              "5          Demons          287\n",
              "6           Drama         1977\n",
              "7           Ecchi          628\n",
              "8         Fantasy         2242\n",
              "9            Game          177\n",
              "10          Harem          313\n",
              "11         Hentai         1133\n",
              "12     Historical          798\n",
              "13         Horror          362\n",
              "14          Josei           52\n",
              "15           Kids         1598\n",
              "16          Magic          747\n",
              "17   Martial Arts          264\n",
              "18          Mecha          929\n",
              "19       Military          416\n",
              "20          Music          842\n",
              "21        Mystery          485\n",
              "22         Parody          403\n",
              "23         Police          195\n",
              "24  Psychological          226\n",
              "25        Romance         1437\n",
              "26        Samurai          146\n",
              "27         School         1176\n",
              "28         Sci-Fi         2036\n",
              "29         Seinen          532\n",
              "30         Shoujo          594\n",
              "31      Shoujo Ai           54\n",
              "32        Shounen         1684\n",
              "33     Shounen Ai           62\n",
              "34  Slice of Life         1204\n",
              "35          Space          377\n",
              "36         Sports          533\n",
              "37    Super Power          451\n",
              "38   Supernatural         1001\n",
              "39       Thriller           86\n",
              "40        Vampire          100\n",
              "41           Yaoi           38\n",
              "42           Yuri           41"
            ]
          },
          "metadata": {
            "tags": []
          }
        },
        {
          "output_type": "execute_result",
          "data": {
            "application/javascript": [
              "google.colab.output.setIframeHeight('300px');"
            ],
            "text/plain": [
              "<IPython.core.display.Javascript object>"
            ]
          },
          "metadata": {
            "tags": []
          },
          "execution_count": 19
        }
      ]
    },
    {
      "cell_type": "code",
      "metadata": {
        "scrolled": false,
        "id": "r_qaRhz0o3HW",
        "colab_type": "code",
        "colab": {},
        "outputId": "11bb6a90-af5f-46ff-bf39-ae67f2c16416"
      },
      "source": [
        "df2.plot(x='Genres',y='Anime_Count',kind=\"bar\",figsize=(14,8))"
      ],
      "execution_count": null,
      "outputs": [
        {
          "output_type": "execute_result",
          "data": {
            "text/plain": [
              "<matplotlib.axes._subplots.AxesSubplot at 0x1dff776f070>"
            ]
          },
          "metadata": {
            "tags": []
          },
          "execution_count": 15
        },
        {
          "output_type": "display_data",
          "data": {
            "image/png": "[encoded data removed]",
            "text/plain": [
              "<Figure size 1008x576 with 1 Axes>"
            ]
          },
          "metadata": {
            "tags": [],
            "needs_background": "light"
          }
        }
      ]
    },
    {
      "cell_type": "markdown",
      "metadata": {
        "id": "vcjshyj8o3HY",
        "colab_type": "text"
      },
      "source": [
        "From the above graph, We can see Comedy animes are at the top, in terms of anime genres, Followed by Action, Adventure, Fantasy and more. "
      ]
    },
    {
      "cell_type": "markdown",
      "metadata": {
        "id": "Jsy-KP4fo3HY",
        "colab_type": "text"
      },
      "source": [
        "## Types of animes (Individual count)"
      ]
    },
    {
      "cell_type": "code",
      "metadata": {
        "id": "CCVduwiMo3HZ",
        "colab_type": "code",
        "colab": {
          "base_uri": "https://localhost:8080/",
          "height": 34
        },
        "outputId": "59b6cac5-16cc-49c9-f17a-073ad8de7ccc"
      },
      "source": [
        "TYPES=df.type.dropna().unique()\n",
        "TYPES"
      ],
      "execution_count": null,
      "outputs": [
        {
          "output_type": "execute_result",
          "data": {
            "text/plain": [
              "array(['Movie', 'TV', 'OVA', 'Special', 'Music', 'ONA'], dtype=object)"
            ]
          },
          "metadata": {
            "tags": []
          },
          "execution_count": 21
        }
      ]
    },
    {
      "cell_type": "code",
      "metadata": {
        "id": "IwNGgWnuo3Hb",
        "colab_type": "code",
        "colab": {}
      },
      "source": [
        "df=pd.read_csv('/content/Gdrive/My Drive/DATASETS/anime.csv')  ## Dataframe genre must be a single string, so we re-read the dataset"
      ],
      "execution_count": null,
      "outputs": []
    },
    {
      "cell_type": "code",
      "metadata": {
        "id": "zQC14cr9o3Hc",
        "colab_type": "code",
        "colab": {}
      },
      "source": [
        "T2=[]\n",
        "T3=[]\n",
        "for x in TYPES:\n",
        "    for y in L:\n",
        "        T2.append(((df[df[\"genre\"].str.contains(y,na=False)][\"type\"]==x)).sum())   ## COUNT TYPES OF ALL GENRES\n",
        "    T3.append(T2)\n",
        "    T2=[]          # Resetting T2 for next genre\n",
        "        "
      ],
      "execution_count": null,
      "outputs": []
    },
    {
      "cell_type": "code",
      "metadata": {
        "scrolled": true,
        "id": "ReHtZQ3Jo3He",
        "colab_type": "code",
        "colab": {
          "base_uri": "https://localhost:8080/",
          "height": 300
        },
        "outputId": "637fd936-d5c7-47d8-d1e3-38ab2b028cca"
      },
      "source": [
        "df22=df2                     # Making copy of Anime_Count dataframe\n",
        "for x in range(0,6):\n",
        "    df22[TYPES[x]]=T3[x]\n",
        "DFT=df22.drop(['Anime_Count'],axis=1)   \n",
        "\n",
        "display.display(DFT)\n",
        "display.Javascript(\"google.colab.output.setIframeHeight('300px');\")"
      ],
      "execution_count": null,
      "outputs": [
        {
          "output_type": "display_data",
          "data": {
            "text/html": [
              "<div>\n",
              "<style scoped>\n",
              "    .dataframe tbody tr th:only-of-type {\n",
              "        vertical-align: middle;\n",
              "    }\n",
              "\n",
              "    .dataframe tbody tr th {\n",
              "        vertical-align: top;\n",
              "    }\n",
              "\n",
              "    .dataframe thead th {\n",
              "        text-align: right;\n",
              "    }\n",
              "</style>\n",
              "<table border=\"1\" class=\"dataframe\">\n",
              "  <thead>\n",
              "    <tr style=\"text-align: right;\">\n",
              "      <th></th>\n",
              "      <th>Genres</th>\n",
              "      <th>Movie</th>\n",
              "      <th>TV</th>\n",
              "      <th>OVA</th>\n",
              "      <th>Special</th>\n",
              "      <th>Music</th>\n",
              "      <th>ONA</th>\n",
              "    </tr>\n",
              "  </thead>\n",
              "  <tbody>\n",
              "    <tr>\n",
              "      <th>0</th>\n",
              "      <td>Action</td>\n",
              "      <td>572</td>\n",
              "      <td>1098</td>\n",
              "      <td>680</td>\n",
              "      <td>357</td>\n",
              "      <td>17</td>\n",
              "      <td>113</td>\n",
              "    </tr>\n",
              "    <tr>\n",
              "      <th>1</th>\n",
              "      <td>Adventure</td>\n",
              "      <td>647</td>\n",
              "      <td>932</td>\n",
              "      <td>421</td>\n",
              "      <td>297</td>\n",
              "      <td>9</td>\n",
              "      <td>40</td>\n",
              "    </tr>\n",
              "    <tr>\n",
              "      <th>2</th>\n",
              "      <td>Cars</td>\n",
              "      <td>12</td>\n",
              "      <td>36</td>\n",
              "      <td>12</td>\n",
              "      <td>4</td>\n",
              "      <td>1</td>\n",
              "      <td>7</td>\n",
              "    </tr>\n",
              "    <tr>\n",
              "      <th>3</th>\n",
              "      <td>Comedy</td>\n",
              "      <td>693</td>\n",
              "      <td>1870</td>\n",
              "      <td>846</td>\n",
              "      <td>903</td>\n",
              "      <td>18</td>\n",
              "      <td>311</td>\n",
              "    </tr>\n",
              "    <tr>\n",
              "      <th>4</th>\n",
              "      <td>Dementia</td>\n",
              "      <td>172</td>\n",
              "      <td>9</td>\n",
              "      <td>18</td>\n",
              "      <td>10</td>\n",
              "      <td>18</td>\n",
              "      <td>13</td>\n",
              "    </tr>\n",
              "    <tr>\n",
              "      <th>5</th>\n",
              "      <td>Demons</td>\n",
              "      <td>44</td>\n",
              "      <td>89</td>\n",
              "      <td>122</td>\n",
              "      <td>31</td>\n",
              "      <td>1</td>\n",
              "      <td>7</td>\n",
              "    </tr>\n",
              "    <tr>\n",
              "      <th>6</th>\n",
              "      <td>Drama</td>\n",
              "      <td>484</td>\n",
              "      <td>697</td>\n",
              "      <td>545</td>\n",
              "      <td>213</td>\n",
              "      <td>26</td>\n",
              "      <td>44</td>\n",
              "    </tr>\n",
              "    <tr>\n",
              "      <th>7</th>\n",
              "      <td>Ecchi</td>\n",
              "      <td>32</td>\n",
              "      <td>245</td>\n",
              "      <td>218</td>\n",
              "      <td>127</td>\n",
              "      <td>2</td>\n",
              "      <td>13</td>\n",
              "    </tr>\n",
              "    <tr>\n",
              "      <th>8</th>\n",
              "      <td>Fantasy</td>\n",
              "      <td>592</td>\n",
              "      <td>765</td>\n",
              "      <td>518</td>\n",
              "      <td>291</td>\n",
              "      <td>41</td>\n",
              "      <td>97</td>\n",
              "    </tr>\n",
              "    <tr>\n",
              "      <th>9</th>\n",
              "      <td>Game</td>\n",
              "      <td>17</td>\n",
              "      <td>103</td>\n",
              "      <td>17</td>\n",
              "      <td>27</td>\n",
              "      <td>0</td>\n",
              "      <td>17</td>\n",
              "    </tr>\n",
              "    <tr>\n",
              "      <th>10</th>\n",
              "      <td>Harem</td>\n",
              "      <td>8</td>\n",
              "      <td>175</td>\n",
              "      <td>99</td>\n",
              "      <td>30</td>\n",
              "      <td>1</td>\n",
              "      <td>4</td>\n",
              "    </tr>\n",
              "    <tr>\n",
              "      <th>11</th>\n",
              "      <td>Hentai</td>\n",
              "      <td>8</td>\n",
              "      <td>0</td>\n",
              "      <td>1112</td>\n",
              "      <td>19</td>\n",
              "      <td>0</td>\n",
              "      <td>2</td>\n",
              "    </tr>\n",
              "    <tr>\n",
              "      <th>12</th>\n",
              "      <td>Historical</td>\n",
              "      <td>228</td>\n",
              "      <td>275</td>\n",
              "      <td>153</td>\n",
              "      <td>113</td>\n",
              "      <td>2</td>\n",
              "      <td>33</td>\n",
              "    </tr>\n",
              "    <tr>\n",
              "      <th>13</th>\n",
              "      <td>Horror</td>\n",
              "      <td>70</td>\n",
              "      <td>113</td>\n",
              "      <td>133</td>\n",
              "      <td>22</td>\n",
              "      <td>6</td>\n",
              "      <td>25</td>\n",
              "    </tr>\n",
              "    <tr>\n",
              "      <th>14</th>\n",
              "      <td>Josei</td>\n",
              "      <td>2</td>\n",
              "      <td>32</td>\n",
              "      <td>10</td>\n",
              "      <td>10</td>\n",
              "      <td>0</td>\n",
              "      <td>0</td>\n",
              "    </tr>\n",
              "    <tr>\n",
              "      <th>15</th>\n",
              "      <td>Kids</td>\n",
              "      <td>453</td>\n",
              "      <td>484</td>\n",
              "      <td>372</td>\n",
              "      <td>156</td>\n",
              "      <td>98</td>\n",
              "      <td>46</td>\n",
              "    </tr>\n",
              "    <tr>\n",
              "      <th>16</th>\n",
              "      <td>Magic</td>\n",
              "      <td>121</td>\n",
              "      <td>353</td>\n",
              "      <td>187</td>\n",
              "      <td>83</td>\n",
              "      <td>10</td>\n",
              "      <td>23</td>\n",
              "    </tr>\n",
              "    <tr>\n",
              "      <th>17</th>\n",
              "      <td>Martial Arts</td>\n",
              "      <td>48</td>\n",
              "      <td>95</td>\n",
              "      <td>81</td>\n",
              "      <td>28</td>\n",
              "      <td>0</td>\n",
              "      <td>13</td>\n",
              "    </tr>\n",
              "    <tr>\n",
              "      <th>18</th>\n",
              "      <td>Mecha</td>\n",
              "      <td>166</td>\n",
              "      <td>379</td>\n",
              "      <td>244</td>\n",
              "      <td>111</td>\n",
              "      <td>6</td>\n",
              "      <td>36</td>\n",
              "    </tr>\n",
              "    <tr>\n",
              "      <th>19</th>\n",
              "      <td>Military</td>\n",
              "      <td>106</td>\n",
              "      <td>133</td>\n",
              "      <td>107</td>\n",
              "      <td>63</td>\n",
              "      <td>1</td>\n",
              "      <td>14</td>\n",
              "    </tr>\n",
              "    <tr>\n",
              "      <th>20</th>\n",
              "      <td>Music</td>\n",
              "      <td>87</td>\n",
              "      <td>123</td>\n",
              "      <td>64</td>\n",
              "      <td>60</td>\n",
              "      <td>487</td>\n",
              "      <td>37</td>\n",
              "    </tr>\n",
              "    <tr>\n",
              "      <th>21</th>\n",
              "      <td>Mystery</td>\n",
              "      <td>88</td>\n",
              "      <td>222</td>\n",
              "      <td>99</td>\n",
              "      <td>70</td>\n",
              "      <td>1</td>\n",
              "      <td>14</td>\n",
              "    </tr>\n",
              "    <tr>\n",
              "      <th>22</th>\n",
              "      <td>Parody</td>\n",
              "      <td>31</td>\n",
              "      <td>126</td>\n",
              "      <td>93</td>\n",
              "      <td>104</td>\n",
              "      <td>0</td>\n",
              "      <td>54</td>\n",
              "    </tr>\n",
              "    <tr>\n",
              "      <th>23</th>\n",
              "      <td>Police</td>\n",
              "      <td>50</td>\n",
              "      <td>50</td>\n",
              "      <td>57</td>\n",
              "      <td>33</td>\n",
              "      <td>1</td>\n",
              "      <td>6</td>\n",
              "    </tr>\n",
              "    <tr>\n",
              "      <th>24</th>\n",
              "      <td>Psychological</td>\n",
              "      <td>69</td>\n",
              "      <td>89</td>\n",
              "      <td>47</td>\n",
              "      <td>13</td>\n",
              "      <td>4</td>\n",
              "      <td>7</td>\n",
              "    </tr>\n",
              "    <tr>\n",
              "      <th>25</th>\n",
              "      <td>Romance</td>\n",
              "      <td>171</td>\n",
              "      <td>652</td>\n",
              "      <td>403</td>\n",
              "      <td>178</td>\n",
              "      <td>19</td>\n",
              "      <td>38</td>\n",
              "    </tr>\n",
              "    <tr>\n",
              "      <th>26</th>\n",
              "      <td>Samurai</td>\n",
              "      <td>29</td>\n",
              "      <td>51</td>\n",
              "      <td>35</td>\n",
              "      <td>26</td>\n",
              "      <td>1</td>\n",
              "      <td>5</td>\n",
              "    </tr>\n",
              "    <tr>\n",
              "      <th>27</th>\n",
              "      <td>School</td>\n",
              "      <td>104</td>\n",
              "      <td>567</td>\n",
              "      <td>279</td>\n",
              "      <td>201</td>\n",
              "      <td>9</td>\n",
              "      <td>56</td>\n",
              "    </tr>\n",
              "    <tr>\n",
              "      <th>28</th>\n",
              "      <td>Sci-Fi</td>\n",
              "      <td>405</td>\n",
              "      <td>774</td>\n",
              "      <td>520</td>\n",
              "      <td>264</td>\n",
              "      <td>27</td>\n",
              "      <td>75</td>\n",
              "    </tr>\n",
              "    <tr>\n",
              "      <th>29</th>\n",
              "      <td>Seinen</td>\n",
              "      <td>57</td>\n",
              "      <td>235</td>\n",
              "      <td>156</td>\n",
              "      <td>81</td>\n",
              "      <td>2</td>\n",
              "      <td>16</td>\n",
              "    </tr>\n",
              "    <tr>\n",
              "      <th>30</th>\n",
              "      <td>Shoujo</td>\n",
              "      <td>87</td>\n",
              "      <td>310</td>\n",
              "      <td>139</td>\n",
              "      <td>93</td>\n",
              "      <td>7</td>\n",
              "      <td>14</td>\n",
              "    </tr>\n",
              "    <tr>\n",
              "      <th>31</th>\n",
              "      <td>Shoujo Ai</td>\n",
              "      <td>0</td>\n",
              "      <td>31</td>\n",
              "      <td>8</td>\n",
              "      <td>11</td>\n",
              "      <td>0</td>\n",
              "      <td>5</td>\n",
              "    </tr>\n",
              "    <tr>\n",
              "      <th>32</th>\n",
              "      <td>Shounen</td>\n",
              "      <td>380</td>\n",
              "      <td>736</td>\n",
              "      <td>371</td>\n",
              "      <td>263</td>\n",
              "      <td>0</td>\n",
              "      <td>22</td>\n",
              "    </tr>\n",
              "    <tr>\n",
              "      <th>33</th>\n",
              "      <td>Shounen Ai</td>\n",
              "      <td>5</td>\n",
              "      <td>24</td>\n",
              "      <td>27</td>\n",
              "      <td>8</td>\n",
              "      <td>0</td>\n",
              "      <td>1</td>\n",
              "    </tr>\n",
              "    <tr>\n",
              "      <th>34</th>\n",
              "      <td>Slice of Life</td>\n",
              "      <td>166</td>\n",
              "      <td>562</td>\n",
              "      <td>159</td>\n",
              "      <td>213</td>\n",
              "      <td>22</td>\n",
              "      <td>98</td>\n",
              "    </tr>\n",
              "    <tr>\n",
              "      <th>35</th>\n",
              "      <td>Space</td>\n",
              "      <td>94</td>\n",
              "      <td>123</td>\n",
              "      <td>96</td>\n",
              "      <td>46</td>\n",
              "      <td>7</td>\n",
              "      <td>14</td>\n",
              "    </tr>\n",
              "    <tr>\n",
              "      <th>36</th>\n",
              "      <td>Sports</td>\n",
              "      <td>117</td>\n",
              "      <td>240</td>\n",
              "      <td>92</td>\n",
              "      <td>75</td>\n",
              "      <td>2</td>\n",
              "      <td>16</td>\n",
              "    </tr>\n",
              "    <tr>\n",
              "      <th>37</th>\n",
              "      <td>Super Power</td>\n",
              "      <td>93</td>\n",
              "      <td>190</td>\n",
              "      <td>102</td>\n",
              "      <td>68</td>\n",
              "      <td>4</td>\n",
              "      <td>6</td>\n",
              "    </tr>\n",
              "    <tr>\n",
              "      <th>38</th>\n",
              "      <td>Supernatural</td>\n",
              "      <td>165</td>\n",
              "      <td>431</td>\n",
              "      <td>248</td>\n",
              "      <td>136</td>\n",
              "      <td>12</td>\n",
              "      <td>44</td>\n",
              "    </tr>\n",
              "    <tr>\n",
              "      <th>39</th>\n",
              "      <td>Thriller</td>\n",
              "      <td>25</td>\n",
              "      <td>34</td>\n",
              "      <td>11</td>\n",
              "      <td>8</td>\n",
              "      <td>0</td>\n",
              "      <td>8</td>\n",
              "    </tr>\n",
              "    <tr>\n",
              "      <th>40</th>\n",
              "      <td>Vampire</td>\n",
              "      <td>9</td>\n",
              "      <td>46</td>\n",
              "      <td>21</td>\n",
              "      <td>18</td>\n",
              "      <td>4</td>\n",
              "      <td>4</td>\n",
              "    </tr>\n",
              "    <tr>\n",
              "      <th>41</th>\n",
              "      <td>Yaoi</td>\n",
              "      <td>0</td>\n",
              "      <td>0</td>\n",
              "      <td>35</td>\n",
              "      <td>2</td>\n",
              "      <td>0</td>\n",
              "      <td>1</td>\n",
              "    </tr>\n",
              "    <tr>\n",
              "      <th>42</th>\n",
              "      <td>Yuri</td>\n",
              "      <td>0</td>\n",
              "      <td>0</td>\n",
              "      <td>36</td>\n",
              "      <td>4</td>\n",
              "      <td>0</td>\n",
              "      <td>1</td>\n",
              "    </tr>\n",
              "  </tbody>\n",
              "</table>\n",
              "</div>"
            ],
            "text/plain": [
              "           Genres  Movie    TV   OVA  Special  Music  ONA\n",
              "0          Action    572  1098   680      357     17  113\n",
              "1       Adventure    647   932   421      297      9   40\n",
              "2            Cars     12    36    12        4      1    7\n",
              "3          Comedy    693  1870   846      903     18  311\n",
              "4        Dementia    172     9    18       10     18   13\n",
              "5          Demons     44    89   122       31      1    7\n",
              "6           Drama    484   697   545      213     26   44\n",
              "7           Ecchi     32   245   218      127      2   13\n",
              "8         Fantasy    592   765   518      291     41   97\n",
              "9            Game     17   103    17       27      0   17\n",
              "10          Harem      8   175    99       30      1    4\n",
              "11         Hentai      8     0  1112       19      0    2\n",
              "12     Historical    228   275   153      113      2   33\n",
              "13         Horror     70   113   133       22      6   25\n",
              "14          Josei      2    32    10       10      0    0\n",
              "15           Kids    453   484   372      156     98   46\n",
              "16          Magic    121   353   187       83     10   23\n",
              "17   Martial Arts     48    95    81       28      0   13\n",
              "18          Mecha    166   379   244      111      6   36\n",
              "19       Military    106   133   107       63      1   14\n",
              "20          Music     87   123    64       60    487   37\n",
              "21        Mystery     88   222    99       70      1   14\n",
              "22         Parody     31   126    93      104      0   54\n",
              "23         Police     50    50    57       33      1    6\n",
              "24  Psychological     69    89    47       13      4    7\n",
              "25        Romance    171   652   403      178     19   38\n",
              "26        Samurai     29    51    35       26      1    5\n",
              "27         School    104   567   279      201      9   56\n",
              "28         Sci-Fi    405   774   520      264     27   75\n",
              "29         Seinen     57   235   156       81      2   16\n",
              "30         Shoujo     87   310   139       93      7   14\n",
              "31      Shoujo Ai      0    31     8       11      0    5\n",
              "32        Shounen    380   736   371      263      0   22\n",
              "33     Shounen Ai      5    24    27        8      0    1\n",
              "34  Slice of Life    166   562   159      213     22   98\n",
              "35          Space     94   123    96       46      7   14\n",
              "36         Sports    117   240    92       75      2   16\n",
              "37    Super Power     93   190   102       68      4    6\n",
              "38   Supernatural    165   431   248      136     12   44\n",
              "39       Thriller     25    34    11        8      0    8\n",
              "40        Vampire      9    46    21       18      4    4\n",
              "41           Yaoi      0     0    35        2      0    1\n",
              "42           Yuri      0     0    36        4      0    1"
            ]
          },
          "metadata": {
            "tags": []
          }
        },
        {
          "output_type": "execute_result",
          "data": {
            "application/javascript": [
              "google.colab.output.setIframeHeight('300px');"
            ],
            "text/plain": [
              "<IPython.core.display.Javascript object>"
            ]
          },
          "metadata": {
            "tags": []
          },
          "execution_count": 25
        }
      ]
    },
    {
      "cell_type": "code",
      "metadata": {
        "id": "kalslT91o3Hf",
        "colab_type": "code",
        "colab": {},
        "outputId": "249fe35a-d41b-456e-f610-69d6e2d224cf"
      },
      "source": [
        "DFT.plot(x='Genres',kind=\"bar\",stacked=True,figsize=(14,8))"
      ],
      "execution_count": null,
      "outputs": [
        {
          "output_type": "execute_result",
          "data": {
            "text/plain": [
              "<matplotlib.axes._subplots.AxesSubplot at 0x1dff7c6c460>"
            ]
          },
          "metadata": {
            "tags": []
          },
          "execution_count": 28
        },
        {
          "output_type": "display_data",
          "data": {
            "image/png": "[encoded data removed]",
            "text/plain": [
              "<Figure size 1008x576 with 1 Axes>"
            ]
          },
          "metadata": {
            "tags": [],
            "needs_background": "light"
          }
        }
      ]
    },
    {
      "cell_type": "markdown",
      "metadata": {
        "id": "oSbaL-fjo3Hh",
        "colab_type": "text"
      },
      "source": [
        "### Top Animes to watch (According to the ratings)"
      ]
    },
    {
      "cell_type": "code",
      "metadata": {
        "scrolled": false,
        "id": "Xm0rhx1Eo3Hh",
        "colab_type": "code",
        "colab": {},
        "outputId": "eda65ba9-d176-434e-de4d-f0c9ef9335a1"
      },
      "source": [
        "df[(df.type==\"TV\") & (df.rating>=9.0)]"
      ],
      "execution_count": null,
      "outputs": [
        {
          "output_type": "execute_result",
          "data": {
            "text/html": [
              "<div>\n",
              "<style scoped>\n",
              "    .dataframe tbody tr th:only-of-type {\n",
              "        vertical-align: middle;\n",
              "    }\n",
              "\n",
              "    .dataframe tbody tr th {\n",
              "        vertical-align: top;\n",
              "    }\n",
              "\n",
              "    .dataframe thead th {\n",
              "        text-align: right;\n",
              "    }\n",
              "</style>\n",
              "<table border=\"1\" class=\"dataframe\">\n",
              "  <thead>\n",
              "    <tr style=\"text-align: right;\">\n",
              "      <th></th>\n",
              "      <th>anime_id</th>\n",
              "      <th>name</th>\n",
              "      <th>genre</th>\n",
              "      <th>type</th>\n",
              "      <th>episodes</th>\n",
              "      <th>rating</th>\n",
              "      <th>members</th>\n",
              "    </tr>\n",
              "  </thead>\n",
              "  <tbody>\n",
              "    <tr>\n",
              "      <th>1</th>\n",
              "      <td>5114</td>\n",
              "      <td>Fullmetal Alchemist: Brotherhood</td>\n",
              "      <td>Action, Adventure, Drama, Fantasy, Magic, Mili...</td>\n",
              "      <td>TV</td>\n",
              "      <td>64</td>\n",
              "      <td>9.26</td>\n",
              "      <td>793665</td>\n",
              "    </tr>\n",
              "    <tr>\n",
              "      <th>2</th>\n",
              "      <td>28977</td>\n",
              "      <td>Gintama°</td>\n",
              "      <td>Action, Comedy, Historical, Parody, Samurai, S...</td>\n",
              "      <td>TV</td>\n",
              "      <td>51</td>\n",
              "      <td>9.25</td>\n",
              "      <td>114262</td>\n",
              "    </tr>\n",
              "    <tr>\n",
              "      <th>3</th>\n",
              "      <td>9253</td>\n",
              "      <td>Steins;Gate</td>\n",
              "      <td>Sci-Fi, Thriller</td>\n",
              "      <td>TV</td>\n",
              "      <td>24</td>\n",
              "      <td>9.17</td>\n",
              "      <td>673572</td>\n",
              "    </tr>\n",
              "    <tr>\n",
              "      <th>4</th>\n",
              "      <td>9969</td>\n",
              "      <td>Gintama&amp;#039;</td>\n",
              "      <td>Action, Comedy, Historical, Parody, Samurai, S...</td>\n",
              "      <td>TV</td>\n",
              "      <td>51</td>\n",
              "      <td>9.16</td>\n",
              "      <td>151266</td>\n",
              "    </tr>\n",
              "    <tr>\n",
              "      <th>5</th>\n",
              "      <td>32935</td>\n",
              "      <td>Haikyuu!!: Karasuno Koukou VS Shiratorizawa Ga...</td>\n",
              "      <td>Comedy, Drama, School, Shounen, Sports</td>\n",
              "      <td>TV</td>\n",
              "      <td>10</td>\n",
              "      <td>9.15</td>\n",
              "      <td>93351</td>\n",
              "    </tr>\n",
              "    <tr>\n",
              "      <th>6</th>\n",
              "      <td>11061</td>\n",
              "      <td>Hunter x Hunter (2011)</td>\n",
              "      <td>Action, Adventure, Shounen, Super Power</td>\n",
              "      <td>TV</td>\n",
              "      <td>148</td>\n",
              "      <td>9.13</td>\n",
              "      <td>425855</td>\n",
              "    </tr>\n",
              "    <tr>\n",
              "      <th>9</th>\n",
              "      <td>15417</td>\n",
              "      <td>Gintama&amp;#039;: Enchousen</td>\n",
              "      <td>Action, Comedy, Historical, Parody, Samurai, S...</td>\n",
              "      <td>TV</td>\n",
              "      <td>13</td>\n",
              "      <td>9.11</td>\n",
              "      <td>81109</td>\n",
              "    </tr>\n",
              "    <tr>\n",
              "      <th>10</th>\n",
              "      <td>4181</td>\n",
              "      <td>Clannad: After Story</td>\n",
              "      <td>Drama, Fantasy, Romance, Slice of Life, Supern...</td>\n",
              "      <td>TV</td>\n",
              "      <td>24</td>\n",
              "      <td>9.06</td>\n",
              "      <td>456749</td>\n",
              "    </tr>\n",
              "    <tr>\n",
              "      <th>12</th>\n",
              "      <td>918</td>\n",
              "      <td>Gintama</td>\n",
              "      <td>Action, Comedy, Historical, Parody, Samurai, S...</td>\n",
              "      <td>TV</td>\n",
              "      <td>201</td>\n",
              "      <td>9.04</td>\n",
              "      <td>336376</td>\n",
              "    </tr>\n",
              "    <tr>\n",
              "      <th>10400</th>\n",
              "      <td>30120</td>\n",
              "      <td>Spoon-hime no Swing Kitchen</td>\n",
              "      <td>Adventure, Kids</td>\n",
              "      <td>TV</td>\n",
              "      <td>Unknown</td>\n",
              "      <td>9.60</td>\n",
              "      <td>47</td>\n",
              "    </tr>\n",
              "  </tbody>\n",
              "</table>\n",
              "</div>"
            ],
            "text/plain": [
              "       anime_id                                               name  \\\n",
              "1          5114                   Fullmetal Alchemist: Brotherhood   \n",
              "2         28977                                           Gintama°   \n",
              "3          9253                                        Steins;Gate   \n",
              "4          9969                                      Gintama&#039;   \n",
              "5         32935  Haikyuu!!: Karasuno Koukou VS Shiratorizawa Ga...   \n",
              "6         11061                             Hunter x Hunter (2011)   \n",
              "9         15417                           Gintama&#039;: Enchousen   \n",
              "10         4181                               Clannad: After Story   \n",
              "12          918                                            Gintama   \n",
              "10400     30120                        Spoon-hime no Swing Kitchen   \n",
              "\n",
              "                                                   genre type episodes  \\\n",
              "1      Action, Adventure, Drama, Fantasy, Magic, Mili...   TV       64   \n",
              "2      Action, Comedy, Historical, Parody, Samurai, S...   TV       51   \n",
              "3                                       Sci-Fi, Thriller   TV       24   \n",
              "4      Action, Comedy, Historical, Parody, Samurai, S...   TV       51   \n",
              "5                 Comedy, Drama, School, Shounen, Sports   TV       10   \n",
              "6                Action, Adventure, Shounen, Super Power   TV      148   \n",
              "9      Action, Comedy, Historical, Parody, Samurai, S...   TV       13   \n",
              "10     Drama, Fantasy, Romance, Slice of Life, Supern...   TV       24   \n",
              "12     Action, Comedy, Historical, Parody, Samurai, S...   TV      201   \n",
              "10400                                    Adventure, Kids   TV  Unknown   \n",
              "\n",
              "       rating  members  \n",
              "1        9.26   793665  \n",
              "2        9.25   114262  \n",
              "3        9.17   673572  \n",
              "4        9.16   151266  \n",
              "5        9.15    93351  \n",
              "6        9.13   425855  \n",
              "9        9.11    81109  \n",
              "10       9.06   456749  \n",
              "12       9.04   336376  \n",
              "10400    9.60       47  "
            ]
          },
          "metadata": {
            "tags": []
          },
          "execution_count": 29
        }
      ]
    },
    {
      "cell_type": "markdown",
      "metadata": {
        "id": "BcZ1-lvso3Hl",
        "colab_type": "text"
      },
      "source": [
        "Nothing surprising here, all amazing shows here. Make sure you check them out, if you haven't! <br>\n",
        "Personally I would have preferred Hunter X hunter to be in the Top 3, but still can't argue with the choices here, Great shows :D"
      ]
    },
    {
      "cell_type": "markdown",
      "metadata": {
        "id": "QBwctn-4o3Hl",
        "colab_type": "text"
      },
      "source": [
        "### Pure Comedy Animes"
      ]
    },
    {
      "cell_type": "code",
      "metadata": {
        "scrolled": true,
        "id": "VV6aKf0vo3Hl",
        "colab_type": "code",
        "colab": {},
        "outputId": "413fa188-da67-4add-ede6-5f8edcfba88d"
      },
      "source": [
        "df[(df['genre'].isin([\"Comedy\"])) & (df.type==\"TV\")].head(10)"
      ],
      "execution_count": null,
      "outputs": [
        {
          "output_type": "execute_result",
          "data": {
            "text/html": [
              "<div>\n",
              "<style scoped>\n",
              "    .dataframe tbody tr th:only-of-type {\n",
              "        vertical-align: middle;\n",
              "    }\n",
              "\n",
              "    .dataframe tbody tr th {\n",
              "        vertical-align: top;\n",
              "    }\n",
              "\n",
              "    .dataframe thead th {\n",
              "        text-align: right;\n",
              "    }\n",
              "</style>\n",
              "<table border=\"1\" class=\"dataframe\">\n",
              "  <thead>\n",
              "    <tr style=\"text-align: right;\">\n",
              "      <th></th>\n",
              "      <th>anime_id</th>\n",
              "      <th>name</th>\n",
              "      <th>genre</th>\n",
              "      <th>type</th>\n",
              "      <th>episodes</th>\n",
              "      <th>rating</th>\n",
              "      <th>members</th>\n",
              "    </tr>\n",
              "  </thead>\n",
              "  <tbody>\n",
              "    <tr>\n",
              "      <th>1425</th>\n",
              "      <td>2518</td>\n",
              "      <td>Masuda Kousuke Gekijou Gag Manga Biyori 2</td>\n",
              "      <td>Comedy</td>\n",
              "      <td>TV</td>\n",
              "      <td>12</td>\n",
              "      <td>7.55</td>\n",
              "      <td>1846</td>\n",
              "    </tr>\n",
              "    <tr>\n",
              "      <th>1557</th>\n",
              "      <td>1684</td>\n",
              "      <td>Dotto Koni-chan</td>\n",
              "      <td>Comedy</td>\n",
              "      <td>TV</td>\n",
              "      <td>26</td>\n",
              "      <td>7.50</td>\n",
              "      <td>1397</td>\n",
              "    </tr>\n",
              "    <tr>\n",
              "      <th>1809</th>\n",
              "      <td>485</td>\n",
              "      <td>Damekko Doubutsu</td>\n",
              "      <td>Comedy</td>\n",
              "      <td>TV</td>\n",
              "      <td>26</td>\n",
              "      <td>7.43</td>\n",
              "      <td>8024</td>\n",
              "    </tr>\n",
              "    <tr>\n",
              "      <th>1904</th>\n",
              "      <td>7761</td>\n",
              "      <td>Masuda Kousuke Gekijou Gag Manga Biyori +</td>\n",
              "      <td>Comedy</td>\n",
              "      <td>TV</td>\n",
              "      <td>12</td>\n",
              "      <td>7.41</td>\n",
              "      <td>1123</td>\n",
              "    </tr>\n",
              "    <tr>\n",
              "      <th>2040</th>\n",
              "      <td>22013</td>\n",
              "      <td>Ghost in the Shell: Nyuumon Arise</td>\n",
              "      <td>Comedy</td>\n",
              "      <td>TV</td>\n",
              "      <td>26</td>\n",
              "      <td>7.37</td>\n",
              "      <td>4636</td>\n",
              "    </tr>\n",
              "    <tr>\n",
              "      <th>2085</th>\n",
              "      <td>4056</td>\n",
              "      <td>Masuda Kousuke Gekijou Gag Manga Biyori 3</td>\n",
              "      <td>Comedy</td>\n",
              "      <td>TV</td>\n",
              "      <td>12</td>\n",
              "      <td>7.36</td>\n",
              "      <td>1615</td>\n",
              "    </tr>\n",
              "    <tr>\n",
              "      <th>2388</th>\n",
              "      <td>5397</td>\n",
              "      <td>Usavich III</td>\n",
              "      <td>Comedy</td>\n",
              "      <td>TV</td>\n",
              "      <td>13</td>\n",
              "      <td>7.28</td>\n",
              "      <td>3038</td>\n",
              "    </tr>\n",
              "    <tr>\n",
              "      <th>2573</th>\n",
              "      <td>4286</td>\n",
              "      <td>Bonobono (TV)</td>\n",
              "      <td>Comedy</td>\n",
              "      <td>TV</td>\n",
              "      <td>48</td>\n",
              "      <td>7.22</td>\n",
              "      <td>418</td>\n",
              "    </tr>\n",
              "    <tr>\n",
              "      <th>2580</th>\n",
              "      <td>5983</td>\n",
              "      <td>Higepiyo</td>\n",
              "      <td>Comedy</td>\n",
              "      <td>TV</td>\n",
              "      <td>39</td>\n",
              "      <td>7.22</td>\n",
              "      <td>4427</td>\n",
              "    </tr>\n",
              "    <tr>\n",
              "      <th>2892</th>\n",
              "      <td>4742</td>\n",
              "      <td>Papa to Odorou</td>\n",
              "      <td>Comedy</td>\n",
              "      <td>TV</td>\n",
              "      <td>16</td>\n",
              "      <td>7.14</td>\n",
              "      <td>567</td>\n",
              "    </tr>\n",
              "  </tbody>\n",
              "</table>\n",
              "</div>"
            ],
            "text/plain": [
              "      anime_id                                       name   genre type  \\\n",
              "1425      2518  Masuda Kousuke Gekijou Gag Manga Biyori 2  Comedy   TV   \n",
              "1557      1684                            Dotto Koni-chan  Comedy   TV   \n",
              "1809       485                           Damekko Doubutsu  Comedy   TV   \n",
              "1904      7761  Masuda Kousuke Gekijou Gag Manga Biyori +  Comedy   TV   \n",
              "2040     22013          Ghost in the Shell: Nyuumon Arise  Comedy   TV   \n",
              "2085      4056  Masuda Kousuke Gekijou Gag Manga Biyori 3  Comedy   TV   \n",
              "2388      5397                                Usavich III  Comedy   TV   \n",
              "2573      4286                              Bonobono (TV)  Comedy   TV   \n",
              "2580      5983                                   Higepiyo  Comedy   TV   \n",
              "2892      4742                             Papa to Odorou  Comedy   TV   \n",
              "\n",
              "     episodes  rating  members  \n",
              "1425       12    7.55     1846  \n",
              "1557       26    7.50     1397  \n",
              "1809       26    7.43     8024  \n",
              "1904       12    7.41     1123  \n",
              "2040       26    7.37     4636  \n",
              "2085       12    7.36     1615  \n",
              "2388       13    7.28     3038  \n",
              "2573       48    7.22      418  \n",
              "2580       39    7.22     4427  \n",
              "2892       16    7.14      567  "
            ]
          },
          "metadata": {
            "tags": []
          },
          "execution_count": 30
        }
      ]
    },
    {
      "cell_type": "markdown",
      "metadata": {
        "id": "PwQYPjrSo3Hn",
        "colab_type": "text"
      },
      "source": [
        "Remember how I told that the genres are considered as a line of string. Hence, here if you search for a particular genre, your result will only return animes of that particular genre. It ignores all the other animes which contains the genre you are looking for."
      ]
    },
    {
      "cell_type": "markdown",
      "metadata": {
        "id": "_Jje1ATLo3Hn",
        "colab_type": "text"
      },
      "source": [
        "### Top Rated Comedy Animes"
      ]
    },
    {
      "cell_type": "code",
      "metadata": {
        "scrolled": false,
        "id": "C2UpK37oo3Ho",
        "colab_type": "code",
        "colab": {},
        "outputId": "c9e0f62c-c1d0-40ef-be73-f32b7ad80854"
      },
      "source": [
        "df[df[\"genre\"].str.contains(\"Comedy\",na=False)].head(10)\n"
      ],
      "execution_count": null,
      "outputs": [
        {
          "output_type": "execute_result",
          "data": {
            "text/html": [
              "<div>\n",
              "<style scoped>\n",
              "    .dataframe tbody tr th:only-of-type {\n",
              "        vertical-align: middle;\n",
              "    }\n",
              "\n",
              "    .dataframe tbody tr th {\n",
              "        vertical-align: top;\n",
              "    }\n",
              "\n",
              "    .dataframe thead th {\n",
              "        text-align: right;\n",
              "    }\n",
              "</style>\n",
              "<table border=\"1\" class=\"dataframe\">\n",
              "  <thead>\n",
              "    <tr style=\"text-align: right;\">\n",
              "      <th></th>\n",
              "      <th>anime_id</th>\n",
              "      <th>name</th>\n",
              "      <th>genre</th>\n",
              "      <th>type</th>\n",
              "      <th>episodes</th>\n",
              "      <th>rating</th>\n",
              "      <th>members</th>\n",
              "    </tr>\n",
              "  </thead>\n",
              "  <tbody>\n",
              "    <tr>\n",
              "      <th>2</th>\n",
              "      <td>28977</td>\n",
              "      <td>Gintama°</td>\n",
              "      <td>Action, Comedy, Historical, Parody, Samurai, S...</td>\n",
              "      <td>TV</td>\n",
              "      <td>51</td>\n",
              "      <td>9.25</td>\n",
              "      <td>114262</td>\n",
              "    </tr>\n",
              "    <tr>\n",
              "      <th>4</th>\n",
              "      <td>9969</td>\n",
              "      <td>Gintama&amp;#039;</td>\n",
              "      <td>Action, Comedy, Historical, Parody, Samurai, S...</td>\n",
              "      <td>TV</td>\n",
              "      <td>51</td>\n",
              "      <td>9.16</td>\n",
              "      <td>151266</td>\n",
              "    </tr>\n",
              "    <tr>\n",
              "      <th>5</th>\n",
              "      <td>32935</td>\n",
              "      <td>Haikyuu!!: Karasuno Koukou VS Shiratorizawa Ga...</td>\n",
              "      <td>Comedy, Drama, School, Shounen, Sports</td>\n",
              "      <td>TV</td>\n",
              "      <td>10</td>\n",
              "      <td>9.15</td>\n",
              "      <td>93351</td>\n",
              "    </tr>\n",
              "    <tr>\n",
              "      <th>8</th>\n",
              "      <td>15335</td>\n",
              "      <td>Gintama Movie: Kanketsu-hen - Yorozuya yo Eien...</td>\n",
              "      <td>Action, Comedy, Historical, Parody, Samurai, S...</td>\n",
              "      <td>Movie</td>\n",
              "      <td>1</td>\n",
              "      <td>9.10</td>\n",
              "      <td>72534</td>\n",
              "    </tr>\n",
              "    <tr>\n",
              "      <th>9</th>\n",
              "      <td>15417</td>\n",
              "      <td>Gintama&amp;#039;: Enchousen</td>\n",
              "      <td>Action, Comedy, Historical, Parody, Samurai, S...</td>\n",
              "      <td>TV</td>\n",
              "      <td>13</td>\n",
              "      <td>9.11</td>\n",
              "      <td>81109</td>\n",
              "    </tr>\n",
              "    <tr>\n",
              "      <th>12</th>\n",
              "      <td>918</td>\n",
              "      <td>Gintama</td>\n",
              "      <td>Action, Comedy, Historical, Parody, Samurai, S...</td>\n",
              "      <td>TV</td>\n",
              "      <td>201</td>\n",
              "      <td>9.04</td>\n",
              "      <td>336376</td>\n",
              "    </tr>\n",
              "    <tr>\n",
              "      <th>14</th>\n",
              "      <td>28891</td>\n",
              "      <td>Haikyuu!! Second Season</td>\n",
              "      <td>Comedy, Drama, School, Shounen, Sports</td>\n",
              "      <td>TV</td>\n",
              "      <td>25</td>\n",
              "      <td>8.93</td>\n",
              "      <td>179342</td>\n",
              "    </tr>\n",
              "    <tr>\n",
              "      <th>20</th>\n",
              "      <td>263</td>\n",
              "      <td>Hajime no Ippo</td>\n",
              "      <td>Comedy, Drama, Shounen, Sports</td>\n",
              "      <td>TV</td>\n",
              "      <td>75</td>\n",
              "      <td>8.83</td>\n",
              "      <td>157670</td>\n",
              "    </tr>\n",
              "    <tr>\n",
              "      <th>22</th>\n",
              "      <td>1</td>\n",
              "      <td>Cowboy Bebop</td>\n",
              "      <td>Action, Adventure, Comedy, Drama, Sci-Fi, Space</td>\n",
              "      <td>TV</td>\n",
              "      <td>26</td>\n",
              "      <td>8.82</td>\n",
              "      <td>486824</td>\n",
              "    </tr>\n",
              "    <tr>\n",
              "      <th>23</th>\n",
              "      <td>30276</td>\n",
              "      <td>One Punch Man</td>\n",
              "      <td>Action, Comedy, Parody, Sci-Fi, Seinen, Super ...</td>\n",
              "      <td>TV</td>\n",
              "      <td>12</td>\n",
              "      <td>8.82</td>\n",
              "      <td>552458</td>\n",
              "    </tr>\n",
              "  </tbody>\n",
              "</table>\n",
              "</div>"
            ],
            "text/plain": [
              "    anime_id                                               name  \\\n",
              "2      28977                                           Gintama°   \n",
              "4       9969                                      Gintama&#039;   \n",
              "5      32935  Haikyuu!!: Karasuno Koukou VS Shiratorizawa Ga...   \n",
              "8      15335  Gintama Movie: Kanketsu-hen - Yorozuya yo Eien...   \n",
              "9      15417                           Gintama&#039;: Enchousen   \n",
              "12       918                                            Gintama   \n",
              "14     28891                            Haikyuu!! Second Season   \n",
              "20       263                                     Hajime no Ippo   \n",
              "22         1                                       Cowboy Bebop   \n",
              "23     30276                                      One Punch Man   \n",
              "\n",
              "                                                genre   type episodes  rating  \\\n",
              "2   Action, Comedy, Historical, Parody, Samurai, S...     TV       51    9.25   \n",
              "4   Action, Comedy, Historical, Parody, Samurai, S...     TV       51    9.16   \n",
              "5              Comedy, Drama, School, Shounen, Sports     TV       10    9.15   \n",
              "8   Action, Comedy, Historical, Parody, Samurai, S...  Movie        1    9.10   \n",
              "9   Action, Comedy, Historical, Parody, Samurai, S...     TV       13    9.11   \n",
              "12  Action, Comedy, Historical, Parody, Samurai, S...     TV      201    9.04   \n",
              "14             Comedy, Drama, School, Shounen, Sports     TV       25    8.93   \n",
              "20                     Comedy, Drama, Shounen, Sports     TV       75    8.83   \n",
              "22    Action, Adventure, Comedy, Drama, Sci-Fi, Space     TV       26    8.82   \n",
              "23  Action, Comedy, Parody, Sci-Fi, Seinen, Super ...     TV       12    8.82   \n",
              "\n",
              "    members  \n",
              "2    114262  \n",
              "4    151266  \n",
              "5     93351  \n",
              "8     72534  \n",
              "9     81109  \n",
              "12   336376  \n",
              "14   179342  \n",
              "20   157670  \n",
              "22   486824  \n",
              "23   552458  "
            ]
          },
          "metadata": {
            "tags": []
          },
          "execution_count": 31
        }
      ]
    },
    {
      "cell_type": "markdown",
      "metadata": {
        "id": "mJ4cCGuGo3Hp",
        "colab_type": "text"
      },
      "source": [
        "Luckily, In Python, We can easily get around that hassle, by using the \"contains\" function. This will return all the animes that contains your specific genre in them. It's a better alternative(I remembering spending a lotta time on finding this lol)<br>\n",
        "Also, Did you Notice that Gintama has occupied 5 spots in the Top Comedy series. Just goes to show you, it's popularity :)"
      ]
    },
    {
      "cell_type": "markdown",
      "metadata": {
        "id": "IlJ9yYJTo3Hq",
        "colab_type": "text"
      },
      "source": [
        "### List of all Unique Genres (Reference)"
      ]
    },
    {
      "cell_type": "code",
      "metadata": {
        "id": "aUXhW_rTo3Hq",
        "colab_type": "code",
        "colab": {},
        "outputId": "e38957e5-b15b-4b7d-d563-68dad11f67b8"
      },
      "source": [
        "print(L)"
      ],
      "execution_count": null,
      "outputs": [
        {
          "output_type": "stream",
          "text": [
            "['Action', 'Adventure', 'Cars', 'Comedy', 'Dementia', 'Demons', 'Drama', 'Ecchi', 'Fantasy', 'Game', 'Harem', 'Hentai', 'Historical', 'Horror', 'Josei', 'Kids', 'Magic', 'Martial Arts', 'Mecha', 'Military', 'Music', 'Mystery', 'Parody', 'Police', 'Psychological', 'Romance', 'Samurai', 'School', 'Sci-Fi', 'Seinen', 'Shoujo', 'Shoujo Ai', 'Shounen', 'Shounen Ai', 'Slice of Life', 'Space', 'Sports', 'Super Power', 'Supernatural', 'Thriller', 'Vampire', 'Yaoi', 'Yuri']\n"
          ],
          "name": "stdout"
        }
      ]
    },
    {
      "cell_type": "markdown",
      "metadata": {
        "id": "PVL_QvGvo3Hs",
        "colab_type": "text"
      },
      "source": [
        "## Search for you specific genre!"
      ]
    },
    {
      "cell_type": "markdown",
      "metadata": {
        "id": "rXa5gkh8o3Hs",
        "colab_type": "text"
      },
      "source": [
        "Enter upto 3 different genres here! Leave a blank if you reached your required number of genres\n",
        "(Look up the previous cell for the list of genres)"
      ]
    },
    {
      "cell_type": "code",
      "metadata": {
        "id": "u4BsP4sgo3Hs",
        "colab_type": "code",
        "colab": {},
        "outputId": "376b29b1-9705-4109-ccdc-b780947841f8"
      },
      "source": [
        "a=input(\"Enter the genre#1: \")\n",
        "b=input(\"Enter the genre#2: \")\n",
        "c=input(\"Enter the genre#3: \")\n",
        "d=input(\"Enter the type: \")"
      ],
      "execution_count": null,
      "outputs": [
        {
          "output_type": "stream",
          "text": [
            "Enter the genre#1: Action\n",
            "Enter the genre#2: Fantasy\n",
            "Enter the genre#3: Thriller\n",
            "Enter the type: TV\n"
          ],
          "name": "stdout"
        }
      ]
    },
    {
      "cell_type": "code",
      "metadata": {
        "scrolled": true,
        "id": "0YsYDN_bo3Hu",
        "colab_type": "code",
        "colab": {},
        "outputId": "fd0fd392-2fc2-47aa-b12f-79d91869ddbc"
      },
      "source": [
        "SG=df[df[\"genre\"].str.contains(a, na=False) & df[\"genre\"].str.contains(b, na=False) & df[\"genre\"].str.contains(c, na=False)]\n",
        "SG[SG.type==d]\n"
      ],
      "execution_count": null,
      "outputs": [
        {
          "output_type": "execute_result",
          "data": {
            "text/html": [
              "<div>\n",
              "<style scoped>\n",
              "    .dataframe tbody tr th:only-of-type {\n",
              "        vertical-align: middle;\n",
              "    }\n",
              "\n",
              "    .dataframe tbody tr th {\n",
              "        vertical-align: top;\n",
              "    }\n",
              "\n",
              "    .dataframe thead th {\n",
              "        text-align: right;\n",
              "    }\n",
              "</style>\n",
              "<table border=\"1\" class=\"dataframe\">\n",
              "  <thead>\n",
              "    <tr style=\"text-align: right;\">\n",
              "      <th></th>\n",
              "      <th>anime_id</th>\n",
              "      <th>name</th>\n",
              "      <th>genre</th>\n",
              "      <th>type</th>\n",
              "      <th>episodes</th>\n",
              "      <th>rating</th>\n",
              "      <th>members</th>\n",
              "    </tr>\n",
              "  </thead>\n",
              "  <tbody>\n",
              "    <tr>\n",
              "      <th>36</th>\n",
              "      <td>11741</td>\n",
              "      <td>Fate/Zero 2nd Season</td>\n",
              "      <td>Action, Fantasy, Supernatural, Thriller</td>\n",
              "      <td>TV</td>\n",
              "      <td>12</td>\n",
              "      <td>8.73</td>\n",
              "      <td>340973</td>\n",
              "    </tr>\n",
              "    <tr>\n",
              "      <th>2755</th>\n",
              "      <td>33003</td>\n",
              "      <td>Mahou Shoujo Ikusei Keikaku</td>\n",
              "      <td>Action, Fantasy, Supernatural, Thriller</td>\n",
              "      <td>TV</td>\n",
              "      <td>12</td>\n",
              "      <td>7.17</td>\n",
              "      <td>46024</td>\n",
              "    </tr>\n",
              "  </tbody>\n",
              "</table>\n",
              "</div>"
            ],
            "text/plain": [
              "      anime_id                         name  \\\n",
              "36       11741         Fate/Zero 2nd Season   \n",
              "2755     33003  Mahou Shoujo Ikusei Keikaku   \n",
              "\n",
              "                                        genre type episodes  rating  members  \n",
              "36    Action, Fantasy, Supernatural, Thriller   TV       12    8.73   340973  \n",
              "2755  Action, Fantasy, Supernatural, Thriller   TV       12    7.17    46024  "
            ]
          },
          "metadata": {
            "tags": []
          },
          "execution_count": 338
        }
      ]
    },
    {
      "cell_type": "markdown",
      "metadata": {
        "id": "RXPR_ZDyo3Hw",
        "colab_type": "text"
      },
      "source": [
        "Pretty simple filtering tool I made, just in case you are looking for a particular anime to watch. Have fun!"
      ]
    },
    {
      "cell_type": "markdown",
      "metadata": {
        "id": "cVxtE1Udo3Hw",
        "colab_type": "text"
      },
      "source": [
        "## Data Visualization"
      ]
    },
    {
      "cell_type": "markdown",
      "metadata": {
        "id": "OHTkbFrLo3Hw",
        "colab_type": "text"
      },
      "source": [
        "### Mean ratings of all genres (Via. LineGraph)"
      ]
    },
    {
      "cell_type": "code",
      "metadata": {
        "id": "r_FeWihNo3Hx",
        "colab_type": "code",
        "colab": {}
      },
      "source": [
        "G2=[]\n",
        "for x in L:\n",
        "     G2.append(np.mean(df[df[\"genre\"].str.contains(x,na=False)][\"rating\"].dropna()))\n",
        "    "
      ],
      "execution_count": null,
      "outputs": []
    },
    {
      "cell_type": "code",
      "metadata": {
        "scrolled": true,
        "id": "y6ipyRhUo3Hy",
        "colab_type": "code",
        "colab": {
          "base_uri": "https://localhost:8080/",
          "height": 300
        },
        "outputId": "61a76770-f14c-4f77-9678-ce7d5993a1f7"
      },
      "source": [
        "d = {'Genres': L, 'Mean_Ratings': G2}\n",
        "df3 = pd.DataFrame(data=d)\n",
        "\n",
        "display.display(df3)\n",
        "display.Javascript(\"google.colab.output.setIframeHeight('300px');\")"
      ],
      "execution_count": null,
      "outputs": [
        {
          "output_type": "display_data",
          "data": {
            "text/html": [
              "<div>\n",
              "<style scoped>\n",
              "    .dataframe tbody tr th:only-of-type {\n",
              "        vertical-align: middle;\n",
              "    }\n",
              "\n",
              "    .dataframe tbody tr th {\n",
              "        vertical-align: top;\n",
              "    }\n",
              "\n",
              "    .dataframe thead th {\n",
              "        text-align: right;\n",
              "    }\n",
              "</style>\n",
              "<table border=\"1\" class=\"dataframe\">\n",
              "  <thead>\n",
              "    <tr style=\"text-align: right;\">\n",
              "      <th></th>\n",
              "      <th>Genres</th>\n",
              "      <th>Mean_Ratings</th>\n",
              "    </tr>\n",
              "  </thead>\n",
              "  <tbody>\n",
              "    <tr>\n",
              "      <th>0</th>\n",
              "      <td>Action</td>\n",
              "      <td>6.787150</td>\n",
              "    </tr>\n",
              "    <tr>\n",
              "      <th>1</th>\n",
              "      <td>Adventure</td>\n",
              "      <td>6.742539</td>\n",
              "    </tr>\n",
              "    <tr>\n",
              "      <th>2</th>\n",
              "      <td>Cars</td>\n",
              "      <td>6.468611</td>\n",
              "    </tr>\n",
              "    <tr>\n",
              "      <th>3</th>\n",
              "      <td>Comedy</td>\n",
              "      <td>6.622402</td>\n",
              "    </tr>\n",
              "    <tr>\n",
              "      <th>4</th>\n",
              "      <td>Dementia</td>\n",
              "      <td>5.011681</td>\n",
              "    </tr>\n",
              "    <tr>\n",
              "      <th>5</th>\n",
              "      <td>Demons</td>\n",
              "      <td>6.676307</td>\n",
              "    </tr>\n",
              "    <tr>\n",
              "      <th>6</th>\n",
              "      <td>Drama</td>\n",
              "      <td>6.977218</td>\n",
              "    </tr>\n",
              "    <tr>\n",
              "      <th>7</th>\n",
              "      <td>Ecchi</td>\n",
              "      <td>6.666640</td>\n",
              "    </tr>\n",
              "    <tr>\n",
              "      <th>8</th>\n",
              "      <td>Fantasy</td>\n",
              "      <td>6.673671</td>\n",
              "    </tr>\n",
              "    <tr>\n",
              "      <th>9</th>\n",
              "      <td>Game</td>\n",
              "      <td>6.783333</td>\n",
              "    </tr>\n",
              "    <tr>\n",
              "      <th>10</th>\n",
              "      <td>Harem</td>\n",
              "      <td>6.965687</td>\n",
              "    </tr>\n",
              "    <tr>\n",
              "      <th>11</th>\n",
              "      <td>Hentai</td>\n",
              "      <td>6.181280</td>\n",
              "    </tr>\n",
              "    <tr>\n",
              "      <th>12</th>\n",
              "      <td>Historical</td>\n",
              "      <td>6.746216</td>\n",
              "    </tr>\n",
              "    <tr>\n",
              "      <th>13</th>\n",
              "      <td>Horror</td>\n",
              "      <td>6.426851</td>\n",
              "    </tr>\n",
              "    <tr>\n",
              "      <th>14</th>\n",
              "      <td>Josei</td>\n",
              "      <td>7.443077</td>\n",
              "    </tr>\n",
              "    <tr>\n",
              "      <th>15</th>\n",
              "      <td>Kids</td>\n",
              "      <td>6.113229</td>\n",
              "    </tr>\n",
              "    <tr>\n",
              "      <th>16</th>\n",
              "      <td>Magic</td>\n",
              "      <td>6.805890</td>\n",
              "    </tr>\n",
              "    <tr>\n",
              "      <th>17</th>\n",
              "      <td>Martial Arts</td>\n",
              "      <td>6.819356</td>\n",
              "    </tr>\n",
              "    <tr>\n",
              "      <th>18</th>\n",
              "      <td>Mecha</td>\n",
              "      <td>6.644790</td>\n",
              "    </tr>\n",
              "    <tr>\n",
              "      <th>19</th>\n",
              "      <td>Military</td>\n",
              "      <td>7.004904</td>\n",
              "    </tr>\n",
              "    <tr>\n",
              "      <th>20</th>\n",
              "      <td>Music</td>\n",
              "      <td>5.923017</td>\n",
              "    </tr>\n",
              "    <tr>\n",
              "      <th>21</th>\n",
              "      <td>Mystery</td>\n",
              "      <td>7.232412</td>\n",
              "    </tr>\n",
              "    <tr>\n",
              "      <th>22</th>\n",
              "      <td>Parody</td>\n",
              "      <td>6.494938</td>\n",
              "    </tr>\n",
              "    <tr>\n",
              "      <th>23</th>\n",
              "      <td>Police</td>\n",
              "      <td>7.122051</td>\n",
              "    </tr>\n",
              "    <tr>\n",
              "      <th>24</th>\n",
              "      <td>Psychological</td>\n",
              "      <td>7.010398</td>\n",
              "    </tr>\n",
              "    <tr>\n",
              "      <th>25</th>\n",
              "      <td>Romance</td>\n",
              "      <td>6.999054</td>\n",
              "    </tr>\n",
              "    <tr>\n",
              "      <th>26</th>\n",
              "      <td>Samurai</td>\n",
              "      <td>6.853836</td>\n",
              "    </tr>\n",
              "    <tr>\n",
              "      <th>27</th>\n",
              "      <td>School</td>\n",
              "      <td>6.972049</td>\n",
              "    </tr>\n",
              "    <tr>\n",
              "      <th>28</th>\n",
              "      <td>Sci-Fi</td>\n",
              "      <td>6.701488</td>\n",
              "    </tr>\n",
              "    <tr>\n",
              "      <th>29</th>\n",
              "      <td>Seinen</td>\n",
              "      <td>6.966353</td>\n",
              "    </tr>\n",
              "    <tr>\n",
              "      <th>30</th>\n",
              "      <td>Shoujo</td>\n",
              "      <td>6.876807</td>\n",
              "    </tr>\n",
              "    <tr>\n",
              "      <th>31</th>\n",
              "      <td>Shoujo Ai</td>\n",
              "      <td>6.978148</td>\n",
              "    </tr>\n",
              "    <tr>\n",
              "      <th>32</th>\n",
              "      <td>Shounen</td>\n",
              "      <td>7.054642</td>\n",
              "    </tr>\n",
              "    <tr>\n",
              "      <th>33</th>\n",
              "      <td>Shounen Ai</td>\n",
              "      <td>6.961613</td>\n",
              "    </tr>\n",
              "    <tr>\n",
              "      <th>34</th>\n",
              "      <td>Slice of Life</td>\n",
              "      <td>6.730498</td>\n",
              "    </tr>\n",
              "    <tr>\n",
              "      <th>35</th>\n",
              "      <td>Space</td>\n",
              "      <td>6.683395</td>\n",
              "    </tr>\n",
              "    <tr>\n",
              "      <th>36</th>\n",
              "      <td>Sports</td>\n",
              "      <td>6.777974</td>\n",
              "    </tr>\n",
              "    <tr>\n",
              "      <th>37</th>\n",
              "      <td>Super Power</td>\n",
              "      <td>6.906785</td>\n",
              "    </tr>\n",
              "    <tr>\n",
              "      <th>38</th>\n",
              "      <td>Supernatural</td>\n",
              "      <td>7.000380</td>\n",
              "    </tr>\n",
              "    <tr>\n",
              "      <th>39</th>\n",
              "      <td>Thriller</td>\n",
              "      <td>7.382326</td>\n",
              "    </tr>\n",
              "    <tr>\n",
              "      <th>40</th>\n",
              "      <td>Vampire</td>\n",
              "      <td>6.884600</td>\n",
              "    </tr>\n",
              "    <tr>\n",
              "      <th>41</th>\n",
              "      <td>Yaoi</td>\n",
              "      <td>6.433684</td>\n",
              "    </tr>\n",
              "    <tr>\n",
              "      <th>42</th>\n",
              "      <td>Yuri</td>\n",
              "      <td>6.088537</td>\n",
              "    </tr>\n",
              "  </tbody>\n",
              "</table>\n",
              "</div>"
            ],
            "text/plain": [
              "           Genres  Mean_Ratings\n",
              "0          Action      6.787150\n",
              "1       Adventure      6.742539\n",
              "2            Cars      6.468611\n",
              "3          Comedy      6.622402\n",
              "4        Dementia      5.011681\n",
              "5          Demons      6.676307\n",
              "6           Drama      6.977218\n",
              "7           Ecchi      6.666640\n",
              "8         Fantasy      6.673671\n",
              "9            Game      6.783333\n",
              "10          Harem      6.965687\n",
              "11         Hentai      6.181280\n",
              "12     Historical      6.746216\n",
              "13         Horror      6.426851\n",
              "14          Josei      7.443077\n",
              "15           Kids      6.113229\n",
              "16          Magic      6.805890\n",
              "17   Martial Arts      6.819356\n",
              "18          Mecha      6.644790\n",
              "19       Military      7.004904\n",
              "20          Music      5.923017\n",
              "21        Mystery      7.232412\n",
              "22         Parody      6.494938\n",
              "23         Police      7.122051\n",
              "24  Psychological      7.010398\n",
              "25        Romance      6.999054\n",
              "26        Samurai      6.853836\n",
              "27         School      6.972049\n",
              "28         Sci-Fi      6.701488\n",
              "29         Seinen      6.966353\n",
              "30         Shoujo      6.876807\n",
              "31      Shoujo Ai      6.978148\n",
              "32        Shounen      7.054642\n",
              "33     Shounen Ai      6.961613\n",
              "34  Slice of Life      6.730498\n",
              "35          Space      6.683395\n",
              "36         Sports      6.777974\n",
              "37    Super Power      6.906785\n",
              "38   Supernatural      7.000380\n",
              "39       Thriller      7.382326\n",
              "40        Vampire      6.884600\n",
              "41           Yaoi      6.433684\n",
              "42           Yuri      6.088537"
            ]
          },
          "metadata": {
            "tags": []
          }
        },
        {
          "output_type": "execute_result",
          "data": {
            "application/javascript": [
              "google.colab.output.setIframeHeight('300px');"
            ],
            "text/plain": [
              "<IPython.core.display.Javascript object>"
            ]
          },
          "metadata": {
            "tags": []
          },
          "execution_count": 27
        }
      ]
    },
    {
      "cell_type": "code",
      "metadata": {
        "id": "FQuW4xAlo3H0",
        "colab_type": "code",
        "colab": {},
        "outputId": "a9a06195-2c59-4aa6-e8cf-63c72f621dcd"
      },
      "source": [
        "figure(num=None, figsize=(15,7))\n",
        "\n",
        "plt2.plot(L, G2)\n",
        "plt2.xticks(rotation=90)  ##plt2\n",
        "\n",
        "plt2.show()"
      ],
      "execution_count": null,
      "outputs": [
        {
          "output_type": "display_data",
          "data": {
            "image/png": "[encoded data removed]",
            "text/plain": [
              "<Figure size 1080x504 with 1 Axes>"
            ]
          },
          "metadata": {
            "tags": [],
            "needs_background": "light"
          }
        }
      ]
    },
    {
      "cell_type": "markdown",
      "metadata": {
        "id": "NjhTcoR4o3H1",
        "colab_type": "text"
      },
      "source": [
        "We can see a great deal of variation of ratings in all the genre. <br> \n",
        "Most noteably, Dementia has the lowest ratings of any other animes. And it's a shame too. Dementia animes are basically animes about short, madness, insanity, mental illness. You just don't see much good shows out of this genre. Music animes are pretty objective, you may find a hidden gem here and there, but most are hard to come by.\n",
        "<br>\n",
        "On the flip side, Josei,Thriller, Mystery animes are peaking in this list. I, personally, haven't seen much of Josei animes, probably because the target demographic is for the ladies. And yeah. It's a delight to see Thriller and Mystery coming out in the tops, We have many great shows worth watching"
      ]
    },
    {
      "cell_type": "markdown",
      "metadata": {
        "id": "Avf3JgUgo3H2",
        "colab_type": "text"
      },
      "source": [
        "### Episode count of all genres (Via. LineGraph)"
      ]
    },
    {
      "cell_type": "code",
      "metadata": {
        "id": "GAWsTwS9o3H2",
        "colab_type": "code",
        "colab": {}
      },
      "source": [
        "G3=[]\n",
        "x=df[df.episodes==\"Unknown\"].index  ## Removing Animes with Unknown episodes \n",
        "y=df.drop(x)\n",
        "for x in L:\n",
        "    G3.append(sum(y[y[\"genre\"].str.contains(x,na=False)][\"episodes\"].dropna().astype('int32')))"
      ],
      "execution_count": null,
      "outputs": []
    },
    {
      "cell_type": "code",
      "metadata": {
        "scrolled": true,
        "id": "OLlvFTemo3H4",
        "colab_type": "code",
        "colab": {
          "base_uri": "https://localhost:8080/",
          "height": 300
        },
        "outputId": "0ec2c5a2-cee3-4346-e839-65f56ba29b3f"
      },
      "source": [
        "d = {'Genres': L, 'Episode_Count': G3}\n",
        "df4 = pd.DataFrame(data=d)\n",
        "\n",
        "display.display(df4)\n",
        "display.Javascript(\"google.colab.output.setIframeHeight('300px');\")"
      ],
      "execution_count": null,
      "outputs": [
        {
          "output_type": "display_data",
          "data": {
            "text/html": [
              "<div>\n",
              "<style scoped>\n",
              "    .dataframe tbody tr th:only-of-type {\n",
              "        vertical-align: middle;\n",
              "    }\n",
              "\n",
              "    .dataframe tbody tr th {\n",
              "        vertical-align: top;\n",
              "    }\n",
              "\n",
              "    .dataframe thead th {\n",
              "        text-align: right;\n",
              "    }\n",
              "</style>\n",
              "<table border=\"1\" class=\"dataframe\">\n",
              "  <thead>\n",
              "    <tr style=\"text-align: right;\">\n",
              "      <th></th>\n",
              "      <th>Genres</th>\n",
              "      <th>Episode_Count</th>\n",
              "    </tr>\n",
              "  </thead>\n",
              "  <tbody>\n",
              "    <tr>\n",
              "      <th>0</th>\n",
              "      <td>Action</td>\n",
              "      <td>36506</td>\n",
              "    </tr>\n",
              "    <tr>\n",
              "      <th>1</th>\n",
              "      <td>Adventure</td>\n",
              "      <td>40358</td>\n",
              "    </tr>\n",
              "    <tr>\n",
              "      <th>2</th>\n",
              "      <td>Cars</td>\n",
              "      <td>1304</td>\n",
              "    </tr>\n",
              "    <tr>\n",
              "      <th>3</th>\n",
              "      <td>Comedy</td>\n",
              "      <td>77403</td>\n",
              "    </tr>\n",
              "    <tr>\n",
              "      <th>4</th>\n",
              "      <td>Dementia</td>\n",
              "      <td>467</td>\n",
              "    </tr>\n",
              "    <tr>\n",
              "      <th>5</th>\n",
              "      <td>Demons</td>\n",
              "      <td>3129</td>\n",
              "    </tr>\n",
              "    <tr>\n",
              "      <th>6</th>\n",
              "      <td>Drama</td>\n",
              "      <td>21399</td>\n",
              "    </tr>\n",
              "    <tr>\n",
              "      <th>7</th>\n",
              "      <td>Ecchi</td>\n",
              "      <td>4829</td>\n",
              "    </tr>\n",
              "    <tr>\n",
              "      <th>8</th>\n",
              "      <td>Fantasy</td>\n",
              "      <td>30379</td>\n",
              "    </tr>\n",
              "    <tr>\n",
              "      <th>9</th>\n",
              "      <td>Game</td>\n",
              "      <td>3838</td>\n",
              "    </tr>\n",
              "    <tr>\n",
              "      <th>10</th>\n",
              "      <td>Harem</td>\n",
              "      <td>2823</td>\n",
              "    </tr>\n",
              "    <tr>\n",
              "      <th>11</th>\n",
              "      <td>Hentai</td>\n",
              "      <td>2376</td>\n",
              "    </tr>\n",
              "    <tr>\n",
              "      <th>12</th>\n",
              "      <td>Historical</td>\n",
              "      <td>14314</td>\n",
              "    </tr>\n",
              "    <tr>\n",
              "      <th>13</th>\n",
              "      <td>Horror</td>\n",
              "      <td>3200</td>\n",
              "    </tr>\n",
              "    <tr>\n",
              "      <th>14</th>\n",
              "      <td>Josei</td>\n",
              "      <td>511</td>\n",
              "    </tr>\n",
              "    <tr>\n",
              "      <th>15</th>\n",
              "      <td>Kids</td>\n",
              "      <td>28725</td>\n",
              "    </tr>\n",
              "    <tr>\n",
              "      <th>16</th>\n",
              "      <td>Magic</td>\n",
              "      <td>13136</td>\n",
              "    </tr>\n",
              "    <tr>\n",
              "      <th>17</th>\n",
              "      <td>Martial Arts</td>\n",
              "      <td>4414</td>\n",
              "    </tr>\n",
              "    <tr>\n",
              "      <th>18</th>\n",
              "      <td>Mecha</td>\n",
              "      <td>13713</td>\n",
              "    </tr>\n",
              "    <tr>\n",
              "      <th>19</th>\n",
              "      <td>Military</td>\n",
              "      <td>4009</td>\n",
              "    </tr>\n",
              "    <tr>\n",
              "      <th>20</th>\n",
              "      <td>Music</td>\n",
              "      <td>3520</td>\n",
              "    </tr>\n",
              "    <tr>\n",
              "      <th>21</th>\n",
              "      <td>Mystery</td>\n",
              "      <td>5232</td>\n",
              "    </tr>\n",
              "    <tr>\n",
              "      <th>22</th>\n",
              "      <td>Parody</td>\n",
              "      <td>4830</td>\n",
              "    </tr>\n",
              "    <tr>\n",
              "      <th>23</th>\n",
              "      <td>Police</td>\n",
              "      <td>1853</td>\n",
              "    </tr>\n",
              "    <tr>\n",
              "      <th>24</th>\n",
              "      <td>Psychological</td>\n",
              "      <td>1922</td>\n",
              "    </tr>\n",
              "    <tr>\n",
              "      <th>25</th>\n",
              "      <td>Romance</td>\n",
              "      <td>16535</td>\n",
              "    </tr>\n",
              "    <tr>\n",
              "      <th>26</th>\n",
              "      <td>Samurai</td>\n",
              "      <td>1556</td>\n",
              "    </tr>\n",
              "    <tr>\n",
              "      <th>27</th>\n",
              "      <td>School</td>\n",
              "      <td>14751</td>\n",
              "    </tr>\n",
              "    <tr>\n",
              "      <th>28</th>\n",
              "      <td>Sci-Fi</td>\n",
              "      <td>27460</td>\n",
              "    </tr>\n",
              "    <tr>\n",
              "      <th>29</th>\n",
              "      <td>Seinen</td>\n",
              "      <td>5029</td>\n",
              "    </tr>\n",
              "    <tr>\n",
              "      <th>30</th>\n",
              "      <td>Shoujo</td>\n",
              "      <td>10989</td>\n",
              "    </tr>\n",
              "    <tr>\n",
              "      <th>31</th>\n",
              "      <td>Shoujo Ai</td>\n",
              "      <td>505</td>\n",
              "    </tr>\n",
              "    <tr>\n",
              "      <th>32</th>\n",
              "      <td>Shounen</td>\n",
              "      <td>30544</td>\n",
              "    </tr>\n",
              "    <tr>\n",
              "      <th>33</th>\n",
              "      <td>Shounen Ai</td>\n",
              "      <td>416</td>\n",
              "    </tr>\n",
              "    <tr>\n",
              "      <th>34</th>\n",
              "      <td>Slice of Life</td>\n",
              "      <td>22130</td>\n",
              "    </tr>\n",
              "    <tr>\n",
              "      <th>35</th>\n",
              "      <td>Space</td>\n",
              "      <td>4473</td>\n",
              "    </tr>\n",
              "    <tr>\n",
              "      <th>36</th>\n",
              "      <td>Sports</td>\n",
              "      <td>9157</td>\n",
              "    </tr>\n",
              "    <tr>\n",
              "      <th>37</th>\n",
              "      <td>Super Power</td>\n",
              "      <td>7025</td>\n",
              "    </tr>\n",
              "    <tr>\n",
              "      <th>38</th>\n",
              "      <td>Supernatural</td>\n",
              "      <td>11254</td>\n",
              "    </tr>\n",
              "    <tr>\n",
              "      <th>39</th>\n",
              "      <td>Thriller</td>\n",
              "      <td>885</td>\n",
              "    </tr>\n",
              "    <tr>\n",
              "      <th>40</th>\n",
              "      <td>Vampire</td>\n",
              "      <td>928</td>\n",
              "    </tr>\n",
              "    <tr>\n",
              "      <th>41</th>\n",
              "      <td>Yaoi</td>\n",
              "      <td>66</td>\n",
              "    </tr>\n",
              "    <tr>\n",
              "      <th>42</th>\n",
              "      <td>Yuri</td>\n",
              "      <td>124</td>\n",
              "    </tr>\n",
              "  </tbody>\n",
              "</table>\n",
              "</div>"
            ],
            "text/plain": [
              "           Genres  Episode_Count\n",
              "0          Action          36506\n",
              "1       Adventure          40358\n",
              "2            Cars           1304\n",
              "3          Comedy          77403\n",
              "4        Dementia            467\n",
              "5          Demons           3129\n",
              "6           Drama          21399\n",
              "7           Ecchi           4829\n",
              "8         Fantasy          30379\n",
              "9            Game           3838\n",
              "10          Harem           2823\n",
              "11         Hentai           2376\n",
              "12     Historical          14314\n",
              "13         Horror           3200\n",
              "14          Josei            511\n",
              "15           Kids          28725\n",
              "16          Magic          13136\n",
              "17   Martial Arts           4414\n",
              "18          Mecha          13713\n",
              "19       Military           4009\n",
              "20          Music           3520\n",
              "21        Mystery           5232\n",
              "22         Parody           4830\n",
              "23         Police           1853\n",
              "24  Psychological           1922\n",
              "25        Romance          16535\n",
              "26        Samurai           1556\n",
              "27         School          14751\n",
              "28         Sci-Fi          27460\n",
              "29         Seinen           5029\n",
              "30         Shoujo          10989\n",
              "31      Shoujo Ai            505\n",
              "32        Shounen          30544\n",
              "33     Shounen Ai            416\n",
              "34  Slice of Life          22130\n",
              "35          Space           4473\n",
              "36         Sports           9157\n",
              "37    Super Power           7025\n",
              "38   Supernatural          11254\n",
              "39       Thriller            885\n",
              "40        Vampire            928\n",
              "41           Yaoi             66\n",
              "42           Yuri            124"
            ]
          },
          "metadata": {
            "tags": []
          }
        },
        {
          "output_type": "execute_result",
          "data": {
            "application/javascript": [
              "google.colab.output.setIframeHeight('300px');"
            ],
            "text/plain": [
              "<IPython.core.display.Javascript object>"
            ]
          },
          "metadata": {
            "tags": []
          },
          "execution_count": 29
        }
      ]
    },
    {
      "cell_type": "code",
      "metadata": {
        "id": "qMuo2giwo3H5",
        "colab_type": "code",
        "colab": {},
        "outputId": "dbfa40f1-ed20-4186-dd38-7060309f3e94"
      },
      "source": [
        "figure(num=None, figsize=(15,7))\n",
        "\n",
        "plt2.plot(L, G3)\n",
        "plt2.xticks(rotation=90)\n",
        "plt2.show()"
      ],
      "execution_count": null,
      "outputs": [
        {
          "output_type": "display_data",
          "data": {
            "image/png": "[encoded data removed]",
            "text/plain": [
              "<Figure size 1080x504 with 1 Axes>"
            ]
          },
          "metadata": {
            "tags": [],
            "needs_background": "light"
          }
        }
      ]
    },
    {
      "cell_type": "markdown",
      "metadata": {
        "id": "9yCQVzHMo3H7",
        "colab_type": "text"
      },
      "source": [
        "Nothing surprising here. Popular genres such as Comedy, Drama, Fantasy have the largest number of episodes. And I think, the reason Comedy is on the top is because almost every anime include that tag, just because lol. It's pretty rare to come by a true Laugh out loud kinda comedy, most of the recent animes just have one or two recurring gags."
      ]
    },
    {
      "cell_type": "markdown",
      "metadata": {
        "id": "7p1SrHjlo3H8",
        "colab_type": "text"
      },
      "source": [
        "### Top 10 Longest Animes (Via PieChart)"
      ]
    },
    {
      "cell_type": "code",
      "metadata": {
        "id": "QTi1gKJCo3H8",
        "colab_type": "code",
        "colab": {},
        "outputId": "e4219591-4c3a-46a5-ff72-47fea9230bf7"
      },
      "source": [
        "x=df[df.episodes==\"Unknown\"].index  ## Removing Animes with Unknown episodes \n",
        "y=df.drop(x)\n",
        "\n",
        "Y=y[['name','episodes']]\n",
        "Y.episodes=Y.episodes.astype(int)   \n",
        "Y=Y.sort_values(by='episodes',ascending=False)\n",
        "explode = (0.1,0.1,0,0,0,0,0,0,0,0)\n",
        "\n",
        "Y.episodes.head(10).plot.pie(labels=Y.name.head(10),figsize=(5,5),autopct='%1.0f%%',explode=explode,colormap='PuBu')"
      ],
      "execution_count": null,
      "outputs": [
        {
          "output_type": "execute_result",
          "data": {
            "text/plain": [
              "<matplotlib.axes._subplots.AxesSubplot at 0x1dff98bb820>"
            ]
          },
          "metadata": {
            "tags": []
          },
          "execution_count": 40
        },
        {
          "output_type": "display_data",
          "data": {
            "image/png": "[encoded data removed]",
            "text/plain": [
              "<Figure size 360x360 with 1 Axes>"
            ]
          },
          "metadata": {
            "tags": []
          }
        }
      ]
    },
    {
      "cell_type": "markdown",
      "metadata": {
        "id": "xJRYQfMpo3H-",
        "colab_type": "text"
      },
      "source": [
        "Ah yes! The only anime I recognize here is Doraemon. Mostly because, I grew up watching it. Most of these animes are been airing for the past 20+ years, Granted that they are slice of life, which is usually easier to animate and storyboard than the other genres."
      ]
    },
    {
      "cell_type": "markdown",
      "metadata": {
        "id": "5Mn7U5fQo3H-",
        "colab_type": "text"
      },
      "source": [
        "### Top 10 Highest Rated Movies "
      ]
    },
    {
      "cell_type": "code",
      "metadata": {
        "id": "WsYut0yAo3H_",
        "colab_type": "code",
        "colab": {},
        "outputId": "c4ec948c-6b53-45ca-ed3c-6478f6549114"
      },
      "source": [
        "Y2=df[df.type==\"Movie\"]\n",
        "Y=Y2[['name','rating']]\n",
        "\n",
        "explode = (0.1,0,0,0,0,0,0,0,0,0)\n",
        "\n",
        "Y.rating.head(10).plot.pie(labels=Y.name.head(10),figsize=(5,5),autopct='%1.0f%%',explode=explode,colormap='coolwarm')"
      ],
      "execution_count": null,
      "outputs": [
        {
          "output_type": "execute_result",
          "data": {
            "text/plain": [
              "<matplotlib.axes._subplots.AxesSubplot at 0x1dff9924670>"
            ]
          },
          "metadata": {
            "tags": []
          },
          "execution_count": 42
        },
        {
          "output_type": "display_data",
          "data": {
            "image/png": "[encoded data removed]",
            "text/plain": [
              "<Figure size 360x360 with 1 Axes>"
            ]
          },
          "metadata": {
            "tags": []
          }
        }
      ]
    },
    {
      "cell_type": "markdown",
      "metadata": {
        "id": "MEInyOSOo3IC",
        "colab_type": "text"
      },
      "source": [
        "No doubts here, seen all the movies here, and all of them were amazing! Especially the top 1 movie here, Kimi no Nawa. That movie will definitely be remembered as one of the classics of 2017, one of Shinkai's greatest works."
      ]
    },
    {
      "cell_type": "markdown",
      "metadata": {
        "id": "NCtIvKy4o3IC",
        "colab_type": "text"
      },
      "source": [
        "### Correlation between Episodes and Ratings (Via. ScatterPlot)"
      ]
    },
    {
      "cell_type": "code",
      "metadata": {
        "id": "B_-lJOZso3IC",
        "colab_type": "code",
        "colab": {}
      },
      "source": [
        "G3=[]\n",
        "x=df[df.episodes==\"Unknown\"].index  ## Removing Animes with Unknown episodes \n",
        "y=df.drop(x)\n",
        "for x in L:\n",
        "    G3.append(np.mean(y[y[\"genre\"].str.contains(x,na=False)][\"episodes\"].dropna().astype('int32')))  \n",
        "    \n",
        "    ##Calculating mean of episodes per genre"
      ],
      "execution_count": null,
      "outputs": []
    },
    {
      "cell_type": "code",
      "metadata": {
        "scrolled": true,
        "id": "_lLk2N03o3IF",
        "colab_type": "code",
        "colab": {}
      },
      "source": [
        "d = {'Genres': L, 'Episode_Count': G3}\n",
        "df4 = pd.DataFrame(data=d)"
      ],
      "execution_count": null,
      "outputs": []
    },
    {
      "cell_type": "code",
      "metadata": {
        "scrolled": true,
        "id": "VZogGCX8o3IH",
        "colab_type": "code",
        "colab": {}
      },
      "source": [
        "E=df4.Episode_Count\n",
        "df3['Mean_Episodes']=E"
      ],
      "execution_count": null,
      "outputs": []
    },
    {
      "cell_type": "code",
      "metadata": {
        "scrolled": false,
        "id": "Wsx7LKv2o3IJ",
        "colab_type": "code",
        "colab": {},
        "outputId": "e7ecc1d4-4405-452f-8ef2-2de07d1661e6"
      },
      "source": [
        "df3.plot.scatter(x='Mean_Ratings',y='Mean_Episodes',figsize=(8,5))"
      ],
      "execution_count": null,
      "outputs": [
        {
          "output_type": "execute_result",
          "data": {
            "text/plain": [
              "<matplotlib.axes._subplots.AxesSubplot at 0x1dff975f2b0>"
            ]
          },
          "metadata": {
            "tags": []
          },
          "execution_count": 46
        },
        {
          "output_type": "display_data",
          "data": {
            "image/png": "[encoded data removed]",
            "text/plain": [
              "<Figure size 576x360 with 1 Axes>"
            ]
          },
          "metadata": {
            "tags": [],
            "needs_background": "light"
          }
        }
      ]
    },
    {
      "cell_type": "code",
      "metadata": {
        "id": "g8oIf1M3o3IL",
        "colab_type": "code",
        "colab": {},
        "outputId": "46b8a342-b348-4c54-8c3e-a487fad2adbf"
      },
      "source": [
        "df3.corr()"
      ],
      "execution_count": null,
      "outputs": [
        {
          "output_type": "execute_result",
          "data": {
            "text/html": [
              "<div>\n",
              "<style scoped>\n",
              "    .dataframe tbody tr th:only-of-type {\n",
              "        vertical-align: middle;\n",
              "    }\n",
              "\n",
              "    .dataframe tbody tr th {\n",
              "        vertical-align: top;\n",
              "    }\n",
              "\n",
              "    .dataframe thead th {\n",
              "        text-align: right;\n",
              "    }\n",
              "</style>\n",
              "<table border=\"1\" class=\"dataframe\">\n",
              "  <thead>\n",
              "    <tr style=\"text-align: right;\">\n",
              "      <th></th>\n",
              "      <th>Mean_Ratings</th>\n",
              "      <th>Mean_Episodes</th>\n",
              "    </tr>\n",
              "  </thead>\n",
              "  <tbody>\n",
              "    <tr>\n",
              "      <th>Mean_Ratings</th>\n",
              "      <td>1.000000</td>\n",
              "      <td>0.311849</td>\n",
              "    </tr>\n",
              "    <tr>\n",
              "      <th>Mean_Episodes</th>\n",
              "      <td>0.311849</td>\n",
              "      <td>1.000000</td>\n",
              "    </tr>\n",
              "  </tbody>\n",
              "</table>\n",
              "</div>"
            ],
            "text/plain": [
              "               Mean_Ratings  Mean_Episodes\n",
              "Mean_Ratings       1.000000       0.311849\n",
              "Mean_Episodes      0.311849       1.000000"
            ]
          },
          "metadata": {
            "tags": []
          },
          "execution_count": 47
        }
      ]
    },
    {
      "cell_type": "markdown",
      "metadata": {
        "id": "VlAN9ogJo3IN",
        "colab_type": "text"
      },
      "source": [
        "We can observe only a \"small positive correlation\" between the episodes and ratings. \n",
        "Hence, we can conclude saying that increase in episodes can only result in small increase in ratings.\n",
        "Longer episodes do not necessarily equal better ratings, and vice versa."
      ]
    },
    {
      "cell_type": "markdown",
      "metadata": {
        "id": "1poLMj7Vo3IO",
        "colab_type": "text"
      },
      "source": [
        "### Regression line to our Scatterplot"
      ]
    },
    {
      "cell_type": "code",
      "metadata": {
        "id": "Gu_vmcDFo3IO",
        "colab_type": "code",
        "colab": {},
        "outputId": "c13d0d9a-0e64-4b3c-ed87-63e5cd3a8039"
      },
      "source": [
        "import seaborn as sns\n",
        "sns.lmplot(x='Mean_Ratings',y='Mean_Episodes',data=df3,fit_reg=True) "
      ],
      "execution_count": null,
      "outputs": [
        {
          "output_type": "execute_result",
          "data": {
            "text/plain": [
              "<seaborn.axisgrid.FacetGrid at 0x1dff9979d30>"
            ]
          },
          "metadata": {
            "tags": []
          },
          "execution_count": 48
        },
        {
          "output_type": "display_data",
          "data": {
            "image/png": "[encoded data removed]",
            "text/plain": [
              "<Figure size 360x360 with 1 Axes>"
            ]
          },
          "metadata": {
            "tags": [],
            "needs_background": "light"
          }
        }
      ]
    },
    {
      "cell_type": "markdown",
      "metadata": {
        "id": "4D1yhcVCo3IQ",
        "colab_type": "text"
      },
      "source": [
        "### Episodes and Ratings comparison (Via. DoubleBarGraph)"
      ]
    },
    {
      "cell_type": "code",
      "metadata": {
        "scrolled": false,
        "id": "Qfv3MhUWo3IQ",
        "colab_type": "code",
        "colab": {},
        "outputId": "822217bc-3efe-49c5-ec33-d7a4b3bc7223"
      },
      "source": [
        "df3.plot(x=\"Genres\",y=[\"Mean_Episodes\",\"Mean_Ratings\"],kind=\"bar\",figsize=(13,6))"
      ],
      "execution_count": null,
      "outputs": [
        {
          "output_type": "execute_result",
          "data": {
            "text/plain": [
              "<matplotlib.axes._subplots.AxesSubplot at 0x1dffa64efd0>"
            ]
          },
          "metadata": {
            "tags": []
          },
          "execution_count": 49
        },
        {
          "output_type": "display_data",
          "data": {
            "image/png": "[encoded data removed]",
            "text/plain": [
              "<Figure size 936x432 with 1 Axes>"
            ]
          },
          "metadata": {
            "tags": [],
            "needs_background": "light"
          }
        }
      ]
    },
    {
      "cell_type": "markdown",
      "metadata": {
        "id": "x9NDjFUjo3IR",
        "colab_type": "text"
      },
      "source": [
        "### Type count of each genre (Via. Lineplot)"
      ]
    },
    {
      "cell_type": "code",
      "metadata": {
        "scrolled": false,
        "id": "FbQe71exo3IS",
        "colab_type": "code",
        "colab": {},
        "outputId": "406eae5c-f07c-4016-cd48-f61846b6d72a"
      },
      "source": [
        "DFT.plot(x=\"Genres\",figsize=(12,7))"
      ],
      "execution_count": null,
      "outputs": [
        {
          "output_type": "execute_result",
          "data": {
            "text/plain": [
              "<matplotlib.axes._subplots.AxesSubplot at 0x1dffa778e50>"
            ]
          },
          "metadata": {
            "tags": []
          },
          "execution_count": 50
        },
        {
          "output_type": "display_data",
          "data": {
            "image/png": "[encoded data removed]",
            "text/plain": [
              "<Figure size 864x504 with 1 Axes>"
            ]
          },
          "metadata": {
            "tags": [],
            "needs_background": "light"
          }
        }
      ]
    },
    {
      "cell_type": "code",
      "metadata": {
        "scrolled": false,
        "id": "yK2Ex9Sxo3IU",
        "colab_type": "code",
        "colab": {},
        "outputId": "57b1c4a5-eec1-4cce-b083-5e06620fbb6d"
      },
      "source": [
        "import matplotlib.pyplot as plt\n",
        "\n",
        "fig, axs = plt.subplots(6,figsize=(14,8),sharex=True)\n",
        "fig.suptitle('Vertically stacked subplots')\n",
        "axs[0].plot(DFT.Genres, DFT.Movie, label=\"Movies\")\n",
        "axs[0].legend(loc=\"upper right\")\n",
        "\n",
        "axs[1].plot(DFT.Genres, DFT.TV,'tab:orange',label=\"TV\")\n",
        "axs[1].legend(loc=\"upper right\")\n",
        "\n",
        "axs[2].plot(DFT.Genres, DFT.OVA,'tab:green',label=\"OVA\")\n",
        "axs[2].legend(loc=\"upper right\")\n",
        "\n",
        "axs[3].plot(DFT.Genres, DFT.Special,'tab:red',label=\"Special\")\n",
        "axs[3].legend(loc=\"upper right\")\n",
        "\n",
        "axs[4].plot(DFT.Genres, DFT.Music,'tab:purple',label=\"Music\")\n",
        "axs[4].legend(loc=\"upper right\")\n",
        "\n",
        "axs[5].plot(DFT.Genres, DFT.ONA,'tab:brown',label=\"ONA\")\n",
        "axs[5].legend(loc=\"upper right\")\n",
        "\n",
        "plt.xticks(rotation=90)\n",
        "plt.show()\n"
      ],
      "execution_count": null,
      "outputs": [
        {
          "output_type": "display_data",
          "data": {
            "image/png": "[encoded data removed]",
            "text/plain": [
              "<Figure size 1008x576 with 6 Axes>"
            ]
          },
          "metadata": {
            "tags": [],
            "needs_background": "light"
          }
        }
      ]
    },
    {
      "cell_type": "code",
      "metadata": {
        "id": "o20dc1ujo3IV",
        "colab_type": "code",
        "colab": {}
      },
      "source": [
        ""
      ],
      "execution_count": null,
      "outputs": []
    }
  ]
}